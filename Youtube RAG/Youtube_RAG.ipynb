{
  "cells": [
    {
      "cell_type": "code",
      "execution_count": null,
      "metadata": {
        "colab": {
          "base_uri": "https://localhost:8080/"
        },
        "id": "4mHjNbgX-nzA",
        "outputId": "732b7843-0fe3-40f5-dbba-14f8b5198085"
      },
      "outputs": [
        {
          "name": "stdout",
          "output_type": "stream",
          "text": [
            "Requirement already satisfied: langchain_community in /usr/local/lib/python3.11/dist-packages (0.3.18)\n",
            "Requirement already satisfied: langchain_groq in /usr/local/lib/python3.11/dist-packages (0.2.4)\n",
            "Requirement already satisfied: youtube_transcript_api in /usr/local/lib/python3.11/dist-packages (0.6.3)\n",
            "Requirement already satisfied: faiss-cpu in /usr/local/lib/python3.11/dist-packages (1.10.0)\n",
            "Requirement already satisfied: langchain-core<1.0.0,>=0.3.37 in /usr/local/lib/python3.11/dist-packages (from langchain_community) (0.3.37)\n",
            "Requirement already satisfied: langchain<1.0.0,>=0.3.19 in /usr/local/lib/python3.11/dist-packages (from langchain_community) (0.3.19)\n",
            "Requirement already satisfied: SQLAlchemy<3,>=1.4 in /usr/local/lib/python3.11/dist-packages (from langchain_community) (2.0.38)\n",
            "Requirement already satisfied: requests<3,>=2 in /usr/local/lib/python3.11/dist-packages (from langchain_community) (2.32.3)\n",
            "Requirement already satisfied: PyYAML>=5.3 in /usr/local/lib/python3.11/dist-packages (from langchain_community) (6.0.2)\n",
            "Requirement already satisfied: aiohttp<4.0.0,>=3.8.3 in /usr/local/lib/python3.11/dist-packages (from langchain_community) (3.11.12)\n",
            "Requirement already satisfied: tenacity!=8.4.0,<10,>=8.1.0 in /usr/local/lib/python3.11/dist-packages (from langchain_community) (9.0.0)\n",
            "Requirement already satisfied: dataclasses-json<0.7,>=0.5.7 in /usr/local/lib/python3.11/dist-packages (from langchain_community) (0.6.7)\n",
            "Requirement already satisfied: pydantic-settings<3.0.0,>=2.4.0 in /usr/local/lib/python3.11/dist-packages (from langchain_community) (2.8.0)\n",
            "Requirement already satisfied: langsmith<0.4,>=0.1.125 in /usr/local/lib/python3.11/dist-packages (from langchain_community) (0.3.8)\n",
            "Requirement already satisfied: httpx-sse<1.0.0,>=0.4.0 in /usr/local/lib/python3.11/dist-packages (from langchain_community) (0.4.0)\n",
            "Requirement already satisfied: numpy<2,>=1.26.4 in /usr/local/lib/python3.11/dist-packages (from langchain_community) (1.26.4)\n",
            "Requirement already satisfied: groq<1,>=0.4.1 in /usr/local/lib/python3.11/dist-packages (from langchain_groq) (0.18.0)\n",
            "Requirement already satisfied: defusedxml<0.8.0,>=0.7.1 in /usr/local/lib/python3.11/dist-packages (from youtube_transcript_api) (0.7.1)\n",
            "Requirement already satisfied: packaging in /usr/local/lib/python3.11/dist-packages (from faiss-cpu) (24.2)\n",
            "Requirement already satisfied: aiohappyeyeballs>=2.3.0 in /usr/local/lib/python3.11/dist-packages (from aiohttp<4.0.0,>=3.8.3->langchain_community) (2.4.6)\n",
            "Requirement already satisfied: aiosignal>=1.1.2 in /usr/local/lib/python3.11/dist-packages (from aiohttp<4.0.0,>=3.8.3->langchain_community) (1.3.2)\n",
            "Requirement already satisfied: attrs>=17.3.0 in /usr/local/lib/python3.11/dist-packages (from aiohttp<4.0.0,>=3.8.3->langchain_community) (25.1.0)\n",
            "Requirement already satisfied: frozenlist>=1.1.1 in /usr/local/lib/python3.11/dist-packages (from aiohttp<4.0.0,>=3.8.3->langchain_community) (1.5.0)\n",
            "Requirement already satisfied: multidict<7.0,>=4.5 in /usr/local/lib/python3.11/dist-packages (from aiohttp<4.0.0,>=3.8.3->langchain_community) (6.1.0)\n",
            "Requirement already satisfied: propcache>=0.2.0 in /usr/local/lib/python3.11/dist-packages (from aiohttp<4.0.0,>=3.8.3->langchain_community) (0.2.1)\n",
            "Requirement already satisfied: yarl<2.0,>=1.17.0 in /usr/local/lib/python3.11/dist-packages (from aiohttp<4.0.0,>=3.8.3->langchain_community) (1.18.3)\n",
            "Requirement already satisfied: marshmallow<4.0.0,>=3.18.0 in /usr/local/lib/python3.11/dist-packages (from dataclasses-json<0.7,>=0.5.7->langchain_community) (3.26.1)\n",
            "Requirement already satisfied: typing-inspect<1,>=0.4.0 in /usr/local/lib/python3.11/dist-packages (from dataclasses-json<0.7,>=0.5.7->langchain_community) (0.9.0)\n",
            "Requirement already satisfied: anyio<5,>=3.5.0 in /usr/local/lib/python3.11/dist-packages (from groq<1,>=0.4.1->langchain_groq) (3.7.1)\n",
            "Requirement already satisfied: distro<2,>=1.7.0 in /usr/local/lib/python3.11/dist-packages (from groq<1,>=0.4.1->langchain_groq) (1.9.0)\n",
            "Requirement already satisfied: httpx<1,>=0.23.0 in /usr/local/lib/python3.11/dist-packages (from groq<1,>=0.4.1->langchain_groq) (0.28.1)\n",
            "Requirement already satisfied: pydantic<3,>=1.9.0 in /usr/local/lib/python3.11/dist-packages (from groq<1,>=0.4.1->langchain_groq) (2.10.6)\n",
            "Requirement already satisfied: sniffio in /usr/local/lib/python3.11/dist-packages (from groq<1,>=0.4.1->langchain_groq) (1.3.1)\n",
            "Requirement already satisfied: typing-extensions<5,>=4.10 in /usr/local/lib/python3.11/dist-packages (from groq<1,>=0.4.1->langchain_groq) (4.12.2)\n",
            "Requirement already satisfied: langchain-text-splitters<1.0.0,>=0.3.6 in /usr/local/lib/python3.11/dist-packages (from langchain<1.0.0,>=0.3.19->langchain_community) (0.3.6)\n",
            "Requirement already satisfied: jsonpatch<2.0,>=1.33 in /usr/local/lib/python3.11/dist-packages (from langchain-core<1.0.0,>=0.3.37->langchain_community) (1.33)\n",
            "Requirement already satisfied: orjson<4.0.0,>=3.9.14 in /usr/local/lib/python3.11/dist-packages (from langsmith<0.4,>=0.1.125->langchain_community) (3.10.15)\n",
            "Requirement already satisfied: requests-toolbelt<2.0.0,>=1.0.0 in /usr/local/lib/python3.11/dist-packages (from langsmith<0.4,>=0.1.125->langchain_community) (1.0.0)\n",
            "Requirement already satisfied: zstandard<0.24.0,>=0.23.0 in /usr/local/lib/python3.11/dist-packages (from langsmith<0.4,>=0.1.125->langchain_community) (0.23.0)\n",
            "Requirement already satisfied: python-dotenv>=0.21.0 in /usr/local/lib/python3.11/dist-packages (from pydantic-settings<3.0.0,>=2.4.0->langchain_community) (1.0.1)\n",
            "Requirement already satisfied: charset-normalizer<4,>=2 in /usr/local/lib/python3.11/dist-packages (from requests<3,>=2->langchain_community) (3.4.1)\n",
            "Requirement already satisfied: idna<4,>=2.5 in /usr/local/lib/python3.11/dist-packages (from requests<3,>=2->langchain_community) (3.10)\n",
            "Requirement already satisfied: urllib3<3,>=1.21.1 in /usr/local/lib/python3.11/dist-packages (from requests<3,>=2->langchain_community) (2.3.0)\n",
            "Requirement already satisfied: certifi>=2017.4.17 in /usr/local/lib/python3.11/dist-packages (from requests<3,>=2->langchain_community) (2025.1.31)\n",
            "Requirement already satisfied: greenlet!=0.4.17 in /usr/local/lib/python3.11/dist-packages (from SQLAlchemy<3,>=1.4->langchain_community) (3.1.1)\n",
            "Requirement already satisfied: httpcore==1.* in /usr/local/lib/python3.11/dist-packages (from httpx<1,>=0.23.0->groq<1,>=0.4.1->langchain_groq) (1.0.7)\n",
            "Requirement already satisfied: h11<0.15,>=0.13 in /usr/local/lib/python3.11/dist-packages (from httpcore==1.*->httpx<1,>=0.23.0->groq<1,>=0.4.1->langchain_groq) (0.14.0)\n",
            "Requirement already satisfied: jsonpointer>=1.9 in /usr/local/lib/python3.11/dist-packages (from jsonpatch<2.0,>=1.33->langchain-core<1.0.0,>=0.3.37->langchain_community) (3.0.0)\n",
            "Requirement already satisfied: annotated-types>=0.6.0 in /usr/local/lib/python3.11/dist-packages (from pydantic<3,>=1.9.0->groq<1,>=0.4.1->langchain_groq) (0.7.0)\n",
            "Requirement already satisfied: pydantic-core==2.27.2 in /usr/local/lib/python3.11/dist-packages (from pydantic<3,>=1.9.0->groq<1,>=0.4.1->langchain_groq) (2.27.2)\n",
            "Requirement already satisfied: mypy-extensions>=0.3.0 in /usr/local/lib/python3.11/dist-packages (from typing-inspect<1,>=0.4.0->dataclasses-json<0.7,>=0.5.7->langchain_community) (1.0.0)\n"
          ]
        }
      ],
      "source": [
        "!pip install langchain_community langchain_groq youtube_transcript_api faiss-cpu"
      ]
    },
    {
      "cell_type": "code",
      "execution_count": null,
      "metadata": {
        "id": "2mVKrxwiA7ST"
      },
      "outputs": [],
      "source": [
        "from langchain.document_loaders import YoutubeLoader\n",
        "from langchain.text_splitter import RecursiveCharacterTextSplitter\n",
        "from langchain.embeddings.huggingface import HuggingFaceEmbeddings\n",
        "from langchain_groq import ChatGroq\n",
        "from langchain.vectorstores import FAISS\n",
        "from langchain.chains import LLMChain\n",
        "from langchain.prompts.chat import (\n",
        "    ChatPromptTemplate,\n",
        "    SystemMessagePromptTemplate,\n",
        "    HumanMessagePromptTemplate\n",
        ")\n",
        "import textwrap"
      ]
    },
    {
      "cell_type": "code",
      "execution_count": null,
      "metadata": {
        "colab": {
          "base_uri": "https://localhost:8080/"
        },
        "id": "-cu5Vw3ABngy",
        "outputId": "875ed1dd-57b7-42e6-c11a-8b30b6780419"
      },
      "outputs": [
        {
          "name": "stderr",
          "output_type": "stream",
          "text": [
            "<ipython-input-15-d0c9174021d8>:1: LangChainDeprecationWarning: Default values for HuggingFaceEmbeddings.model_name were deprecated in LangChain 0.2.16 and will be removed in 0.4.0. Explicitly pass a model_name to the HuggingFaceEmbeddings constructor instead.\n",
            "  embeddings = HuggingFaceEmbeddings()\n"
          ]
        }
      ],
      "source": [
        "embeddings = HuggingFaceEmbeddings()"
      ]
    },
    {
      "cell_type": "code",
      "execution_count": null,
      "metadata": {
        "id": "HWoWlLmaB0_f"
      },
      "outputs": [],
      "source": [
        "def create_db_from_youtube_video_url(video_url):\n",
        "  loader = YoutubeLoader.from_youtube_url(video_url)\n",
        "  transcript = loader.load()\n",
        "\n",
        "  text_splitter = RecursiveCharacterTextSplitter(chunk_size = 2000, chunk_overlap = 100)\n",
        "  docs = text_splitter.split_documents(transcript)\n",
        "  db = FAISS.from_documents(docs, embeddings)\n",
        "  return db"
      ]
    },
    {
      "cell_type": "code",
      "execution_count": null,
      "metadata": {
        "id": "Kgtcoc-pB1CQ"
      },
      "outputs": [],
      "source": [
        "def get_response_from_query(db, query, k = 4):\n",
        "  docs = db.similarity_search(query, k = k)\n",
        "  docs_page_content = \" \".join([d.page_content for d in docs])\n",
        "\n",
        "  chat = ChatGroq(api_key = \"YOUR_API_KEY\", model = \"llama-3.3-70b-versatile\", temperature=0)\n",
        "\n",
        "  template = \"\"\"You are a helpful assistant that that can answer questions about youtube videos\n",
        "        based on the video's transcript: {docs}\n",
        "\n",
        "        Only use the factual information from the transcript to answer the question.\n",
        "\n",
        "        If you feel like you don't have enough information to answer the question, say \"I don't know\".\"\"\"\n",
        "\n",
        "  system_message_prompt = SystemMessagePromptTemplate.from_template(template)\n",
        "  human_template = \"Answer the following question: {question}\"\n",
        "\n",
        "  human_message_prompt = HumanMessagePromptTemplate.from_template(human_template)\n",
        "\n",
        "  chat_prompt = ChatPromptTemplate.from_messages(\n",
        "      [system_message_prompt, human_message_prompt]\n",
        "  )\n",
        "\n",
        "  chain = LLMChain(llm = chat, prompt = chat_prompt)\n",
        "\n",
        "  response = chain.run(question = query, docs = docs_page_content)\n",
        "\n",
        "  response = response.replace(\"\\n\", \"\")\n",
        "\n",
        "  return response, docs\n"
      ]
    },
    {
      "cell_type": "code",
      "execution_count": null,
      "metadata": {
        "colab": {
          "base_uri": "https://localhost:8080/"
        },
        "id": "fzq0zRTcB1NS",
        "outputId": "11ce44d7-e54f-4bf5-9516-44d22af964d9"
      },
      "outputs": [
        {
          "name": "stderr",
          "output_type": "stream",
          "text": [
            "<ipython-input-17-cff13e7348cc>:23: LangChainDeprecationWarning: The class `LLMChain` was deprecated in LangChain 0.1.17 and will be removed in 1.0. Use :meth:`~RunnableSequence, e.g., `prompt | llm`` instead.\n",
            "  chain = LLMChain(llm = chat, prompt = chat_prompt)\n",
            "<ipython-input-17-cff13e7348cc>:25: LangChainDeprecationWarning: The method `Chain.run` was deprecated in langchain 0.1.0 and will be removed in 1.0. Use :meth:`~invoke` instead.\n",
            "  response = chain.run(question = query, docs = docs_page_content)\n"
          ]
        },
        {
          "name": "stdout",
          "output_type": "stream",
          "text": [
            "This video is about creating an AI code review application from\n",
            "scratch, including setting up the backend using Node.js and Express,\n",
            "and creating the frontend using React.js. The application uses a Deep\n",
            "R1 model to review and improve code in languages such as Python, Java,\n",
            "and C++.\n"
          ]
        }
      ],
      "source": [
        "video_url = \"https://youtu.be/sJ9kSzMbMRY?si=k4dnmxrt-yMkuSAy\"\n",
        "db = create_db_from_youtube_video_url(video_url)\n",
        "query = \"what is this video about?\"\n",
        "response, docs = get_response_from_query(db, query)\n",
        "print(textwrap.fill(response, width = 70))"
      ]
    },
    {
      "cell_type": "code",
      "execution_count": null,
      "metadata": {
        "colab": {
          "base_uri": "https://localhost:8080/"
        },
        "id": "t1NB67ejC5qe",
        "outputId": "bb452a2b-8eae-4636-ba37-37944925dee5"
      },
      "outputs": [
        {
          "name": "stdout",
          "output_type": "stream",
          "text": [
            "[Document(id='e9838091-f6df-48e3-8873-56a4cb622a39', metadata={'source': 'sJ9kSzMbMRY'}, page_content=\"out because our code is uploaded based on the Transformers so you can also editing the code on here you can selecting all the code you can deleting them you can that I can also delete them and I I can also running here my own code so let's say def sum let's say I'm going to give it here let's say a b and I am trying to returning here let's say uh returning here A plus b and this is completely a wrong code I just give it here the review the code and TR to waiting for the few minutes or few seconds it will give me the response so well it give me the response again P tag that's me DC car1 and if I go down you can see here it will try to improving the code it will adding the coma as you as you to try to adding here some try and expert block and also to actually improve the code in the Java C and the C++ as well as it will give you time complexity asess complexity as well as it will give you some kind of personaliz Learning Link so you can also clicking on here let's say python function so it will just redirect to you the python function link so let's click on here and you can can see defining the function so you can also read about the python function on here so in this video we going to be creating here this AI code R from scratch so let's start our journey and try to creating here the back end first and after that we're going be creating the front part but before creating the backend part you need also installing the nodejs in our system now let's try to uh download the nodejs and try to install it in our system so in order installing the nodejs just go on the Google and search nodejs and the first link is appear just click on here and click on this download nodejs LTS LTS nothing but called the long-term support version and after downloading this one just click on next next next I mean installing the nodejs and after that just open here your command PP just for anity that node just is installed so you can type in here note B and you can see that the version is\"), Document(id='663559fe-cba3-4a65-b79d-7eb04820deeb', metadata={'source': 'sJ9kSzMbMRY'}, page_content=\"hi everyone and welcome back to the multi of 100 plus data science project Series in this video you will learn how to creating a manack JN project using dpse R1 so let's have a look our demo application first so going to building here an AI code re applications using free and open source model so you can also selecting here the file you can select here any file regarding python JavaScript C or C++ so let's clicking here the file Transformer py and click on open then you can see that the code is loaded on here and if I click on here this uh review code button it will try to analyzing this code and it will giving me some kind of output so let's wait for the output for the few seconds well so you got the response and you can see here one think tag that's when you actually using the Deep R1 model letest Chinese AI model and you can see that uh this is nothing but a code and our code is correct asual so you can also give it here some kind of wrong code and our AI code Rie also try to make it correct but in here it will try to actually improving this code so it actually adding here some kind of device utilizations in this code I not adding here any device utilization just like the coda or the GPU so to try to adding this one you can see on here just to go down you can see that it will creating here some device you can using the Koda if you have the Koda but I am not actually initialized in my ariginal codee that actually uploaded so it will also try to add in here some kind of improved code in Java as well as the improved code in C and C++ as well as it will give me some kind of uh informations about the time and space complexity as well as it will give me some kind of documentations about the py uh official tutorial as well as it will give me some kind of documentation about Java with DL for J and C++ with the Egans and Transformer pepper as well so that I can reading this out because our code is uploaded based on the Transformers so you can also editing the code on here\"), Document(id='040b0185-afd4-4522-90e5-babd48d822d1', metadata={'source': 'sJ9kSzMbMRY'}, page_content=\"here this Express now the question is what is this npm npm stand for node package management see how actually installing this Express you can see that it will creating here a folder called note module and inside this module you can see types of actually folder and inside this folder you can see here some kind of JS it WR so that's in package is nothing but the combination of the code which is already written by the developer okay so we can using this out without any hesitations so first we can simply going to creating here our server so for that you can record here our Express let's say record uh the express let's say Express and now store it inside a variable called con Express now let's create an instance of that so let's say Express and now let's name it as app so this is nothing but our server now we're creating our server but we are not running it yet so in to run in our Ser we going to use in here this server. Jazz if we want to export this I mean if you want to import this data from this app.js file to also export this one inside our app .js file so let's say module. exports is equal to app as well as we can simply going to using this inside the server.js let's say reord reord and inside that we're going to go inside our source folder and inside the source folder I'm going taking here our app.js now our app.js file is coming in our server.js now we can simply go into listening this out so this is our application let's say const app and now we can simply going listen in this let's app. listen I mean running our server so let's running our server into 3,000 port and it will also calling here on call back functions so that our server can desell so it will taking one request and the response and then we simply going to give it here one response let's a console server is running on port 3000s or you can also give it the link on that so let's also creating here one initial route on here so that you can also testing this out yes our server is running and you also\"), Document(id='f68954ee-de5b-4c2a-9b9b-dc42611b5545', metadata={'source': 'sJ9kSzMbMRY'}, page_content=\"so you can see it previewing the time MD file in the preview mode so you can see that uh all right I'm trying to help you the user improve their python code the code that provided in the function is called sum so it have some problem you can see it have some problem suggestion is something called the function sum is defined with parameters but it tries to use variable as and B so which are not defined yes it's true the line return A and B is incorrect syntax for the uh concatenations it should be return the a plus b like that okay so the improved code and also improved code in Java C++ and python as well as well it will give the time complexity and also it will give here some kind of personalized learning links you can just go on the links and you can get in here the documentation of the Python functions and the Java method and C++ functions C++ functions C functions a Time complexity and space complexity that's mean the problem is nothing but about the function right so that's it will give me some kind of person Learning Link about the about the problem step that actually pass it to here to our L model cool right cool now what I can do is simply going to designing our front end prod right now because our code is ready our code is ready now we can designing here our front end part and after that we can connect it to our uh applications right we can do that let's jump on here and try to creating here our applications so now it's time to creating here our front end part so for this case Cas we going to be using the reactjs and the taor and CSS so let's go on the terminal and click here to New terminal and they're creating here an react projects so you can using here a common call npm create you're going to using the bit at theate latest and then you have to give it here one uh name project name so we're going to give it here as a front end as a pro uh project name because we give it the uh project name for the back end is the back end that's why so now we need to\")]\n"
          ]
        }
      ],
      "source": [
        "print(docs)"
      ]
    },
    {
      "cell_type": "code",
      "execution_count": null,
      "metadata": {
        "id": "fqk1gLQZGSpP"
      },
      "outputs": [],
      "source": [
        "#Homework to create a gradio/flask/fastapi/react-js application"
      ]
    }
  ],
  "metadata": {
    "accelerator": "GPU",
    "colab": {
      "gpuType": "T4",
      "provenance": []
    },
    "kernelspec": {
      "display_name": "Python 3",
      "name": "python3"
    },
    "language_info": {
      "name": "python"
    }
  },
  "nbformat": 4,
  "nbformat_minor": 0
}
