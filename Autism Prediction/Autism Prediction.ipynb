{
 "cells": [
  {
   "cell_type": "code",
   "execution_count": 1,
   "id": "9c31785b",
   "metadata": {},
   "outputs": [],
   "source": [
    "import numpy as np\n",
    "import pandas as pd\n",
    "import matplotlib.pyplot as plt\n",
    "import seaborn as sns\n",
    "from sklearn.preprocessing import LabelEncoder\n",
    "from sklearn.model_selection import train_test_split, cross_val_score, RandomizedSearchCV\n",
    "from imblearn.over_sampling import SMOTE\n",
    "from sklearn.tree import DecisionTreeClassifier\n",
    "from sklearn.ensemble import RandomForestClassifier\n",
    "from xgboost import XGBClassifier\n",
    "from sklearn.metrics import accuracy_score, confusion_matrix, classification_report\n",
    "import pickle"
   ]
  },
  {
   "cell_type": "code",
   "execution_count": 2,
   "id": "558ee0cc",
   "metadata": {},
   "outputs": [],
   "source": [
    "df = pd.read_csv(\"train.csv\")"
   ]
  },
  {
   "cell_type": "code",
   "execution_count": 3,
   "id": "de629084",
   "metadata": {},
   "outputs": [
    {
     "data": {
      "text/html": [
       "<div>\n",
       "<style scoped>\n",
       "    .dataframe tbody tr th:only-of-type {\n",
       "        vertical-align: middle;\n",
       "    }\n",
       "\n",
       "    .dataframe tbody tr th {\n",
       "        vertical-align: top;\n",
       "    }\n",
       "\n",
       "    .dataframe thead th {\n",
       "        text-align: right;\n",
       "    }\n",
       "</style>\n",
       "<table border=\"1\" class=\"dataframe\">\n",
       "  <thead>\n",
       "    <tr style=\"text-align: right;\">\n",
       "      <th></th>\n",
       "      <th>ID</th>\n",
       "      <th>A1_Score</th>\n",
       "      <th>A2_Score</th>\n",
       "      <th>A3_Score</th>\n",
       "      <th>A4_Score</th>\n",
       "      <th>A5_Score</th>\n",
       "      <th>A6_Score</th>\n",
       "      <th>A7_Score</th>\n",
       "      <th>A8_Score</th>\n",
       "      <th>A9_Score</th>\n",
       "      <th>A10_Score</th>\n",
       "      <th>age</th>\n",
       "      <th>gender</th>\n",
       "      <th>ethnicity</th>\n",
       "      <th>jaundice</th>\n",
       "      <th>austim</th>\n",
       "      <th>contry_of_res</th>\n",
       "      <th>used_app_before</th>\n",
       "      <th>result</th>\n",
       "      <th>age_desc</th>\n",
       "      <th>relation</th>\n",
       "      <th>Class/ASD</th>\n",
       "    </tr>\n",
       "  </thead>\n",
       "  <tbody>\n",
       "    <tr>\n",
       "      <th>0</th>\n",
       "      <td>1</td>\n",
       "      <td>1</td>\n",
       "      <td>0</td>\n",
       "      <td>1</td>\n",
       "      <td>0</td>\n",
       "      <td>1</td>\n",
       "      <td>0</td>\n",
       "      <td>1</td>\n",
       "      <td>0</td>\n",
       "      <td>1</td>\n",
       "      <td>1</td>\n",
       "      <td>38.172746</td>\n",
       "      <td>f</td>\n",
       "      <td>?</td>\n",
       "      <td>no</td>\n",
       "      <td>no</td>\n",
       "      <td>Austria</td>\n",
       "      <td>no</td>\n",
       "      <td>6.351166</td>\n",
       "      <td>18 and more</td>\n",
       "      <td>Self</td>\n",
       "      <td>0</td>\n",
       "    </tr>\n",
       "    <tr>\n",
       "      <th>1</th>\n",
       "      <td>2</td>\n",
       "      <td>0</td>\n",
       "      <td>0</td>\n",
       "      <td>0</td>\n",
       "      <td>0</td>\n",
       "      <td>0</td>\n",
       "      <td>0</td>\n",
       "      <td>0</td>\n",
       "      <td>0</td>\n",
       "      <td>0</td>\n",
       "      <td>0</td>\n",
       "      <td>47.750517</td>\n",
       "      <td>m</td>\n",
       "      <td>?</td>\n",
       "      <td>no</td>\n",
       "      <td>no</td>\n",
       "      <td>India</td>\n",
       "      <td>no</td>\n",
       "      <td>2.255185</td>\n",
       "      <td>18 and more</td>\n",
       "      <td>Self</td>\n",
       "      <td>0</td>\n",
       "    </tr>\n",
       "    <tr>\n",
       "      <th>2</th>\n",
       "      <td>3</td>\n",
       "      <td>1</td>\n",
       "      <td>1</td>\n",
       "      <td>1</td>\n",
       "      <td>1</td>\n",
       "      <td>1</td>\n",
       "      <td>1</td>\n",
       "      <td>1</td>\n",
       "      <td>1</td>\n",
       "      <td>1</td>\n",
       "      <td>1</td>\n",
       "      <td>7.380373</td>\n",
       "      <td>m</td>\n",
       "      <td>White-European</td>\n",
       "      <td>no</td>\n",
       "      <td>yes</td>\n",
       "      <td>United States</td>\n",
       "      <td>no</td>\n",
       "      <td>14.851484</td>\n",
       "      <td>18 and more</td>\n",
       "      <td>Self</td>\n",
       "      <td>1</td>\n",
       "    </tr>\n",
       "    <tr>\n",
       "      <th>3</th>\n",
       "      <td>4</td>\n",
       "      <td>0</td>\n",
       "      <td>0</td>\n",
       "      <td>0</td>\n",
       "      <td>0</td>\n",
       "      <td>0</td>\n",
       "      <td>0</td>\n",
       "      <td>0</td>\n",
       "      <td>0</td>\n",
       "      <td>0</td>\n",
       "      <td>0</td>\n",
       "      <td>23.561927</td>\n",
       "      <td>f</td>\n",
       "      <td>?</td>\n",
       "      <td>no</td>\n",
       "      <td>no</td>\n",
       "      <td>United States</td>\n",
       "      <td>no</td>\n",
       "      <td>2.276617</td>\n",
       "      <td>18 and more</td>\n",
       "      <td>Self</td>\n",
       "      <td>0</td>\n",
       "    </tr>\n",
       "    <tr>\n",
       "      <th>4</th>\n",
       "      <td>5</td>\n",
       "      <td>0</td>\n",
       "      <td>0</td>\n",
       "      <td>0</td>\n",
       "      <td>0</td>\n",
       "      <td>0</td>\n",
       "      <td>0</td>\n",
       "      <td>0</td>\n",
       "      <td>0</td>\n",
       "      <td>0</td>\n",
       "      <td>0</td>\n",
       "      <td>43.205790</td>\n",
       "      <td>m</td>\n",
       "      <td>?</td>\n",
       "      <td>no</td>\n",
       "      <td>no</td>\n",
       "      <td>South Africa</td>\n",
       "      <td>no</td>\n",
       "      <td>-4.777286</td>\n",
       "      <td>18 and more</td>\n",
       "      <td>Self</td>\n",
       "      <td>0</td>\n",
       "    </tr>\n",
       "  </tbody>\n",
       "</table>\n",
       "</div>"
      ],
      "text/plain": [
       "   ID  A1_Score  A2_Score  A3_Score  A4_Score  ...  used_app_before     result     age_desc  relation  Class/ASD\n",
       "0   1         1         0         1         0  ...               no   6.351166  18 and more      Self          0\n",
       "1   2         0         0         0         0  ...               no   2.255185  18 and more      Self          0\n",
       "2   3         1         1         1         1  ...               no  14.851484  18 and more      Self          1\n",
       "3   4         0         0         0         0  ...               no   2.276617  18 and more      Self          0\n",
       "4   5         0         0         0         0  ...               no  -4.777286  18 and more      Self          0\n",
       "\n",
       "[5 rows x 22 columns]"
      ]
     },
     "execution_count": 3,
     "metadata": {},
     "output_type": "execute_result"
    }
   ],
   "source": [
    "df.head()"
   ]
  },
  {
   "cell_type": "code",
   "execution_count": 4,
   "id": "141d7afa",
   "metadata": {},
   "outputs": [
    {
     "data": {
      "text/plain": [
       "(800, 22)"
      ]
     },
     "execution_count": 4,
     "metadata": {},
     "output_type": "execute_result"
    }
   ],
   "source": [
    "df.shape"
   ]
  },
  {
   "cell_type": "code",
   "execution_count": 5,
   "id": "04f58202",
   "metadata": {},
   "outputs": [
    {
     "data": {
      "text/html": [
       "<div>\n",
       "<style scoped>\n",
       "    .dataframe tbody tr th:only-of-type {\n",
       "        vertical-align: middle;\n",
       "    }\n",
       "\n",
       "    .dataframe tbody tr th {\n",
       "        vertical-align: top;\n",
       "    }\n",
       "\n",
       "    .dataframe thead th {\n",
       "        text-align: right;\n",
       "    }\n",
       "</style>\n",
       "<table border=\"1\" class=\"dataframe\">\n",
       "  <thead>\n",
       "    <tr style=\"text-align: right;\">\n",
       "      <th></th>\n",
       "      <th>ID</th>\n",
       "      <th>A1_Score</th>\n",
       "      <th>A2_Score</th>\n",
       "      <th>A3_Score</th>\n",
       "      <th>A4_Score</th>\n",
       "      <th>A5_Score</th>\n",
       "      <th>A6_Score</th>\n",
       "      <th>A7_Score</th>\n",
       "      <th>A8_Score</th>\n",
       "      <th>A9_Score</th>\n",
       "      <th>A10_Score</th>\n",
       "      <th>age</th>\n",
       "      <th>gender</th>\n",
       "      <th>ethnicity</th>\n",
       "      <th>jaundice</th>\n",
       "      <th>austim</th>\n",
       "      <th>contry_of_res</th>\n",
       "      <th>used_app_before</th>\n",
       "      <th>result</th>\n",
       "      <th>age_desc</th>\n",
       "      <th>relation</th>\n",
       "      <th>Class/ASD</th>\n",
       "    </tr>\n",
       "  </thead>\n",
       "  <tbody>\n",
       "    <tr>\n",
       "      <th>795</th>\n",
       "      <td>796</td>\n",
       "      <td>0</td>\n",
       "      <td>1</td>\n",
       "      <td>0</td>\n",
       "      <td>0</td>\n",
       "      <td>0</td>\n",
       "      <td>0</td>\n",
       "      <td>0</td>\n",
       "      <td>0</td>\n",
       "      <td>1</td>\n",
       "      <td>1</td>\n",
       "      <td>16.597187</td>\n",
       "      <td>m</td>\n",
       "      <td>Hispanic</td>\n",
       "      <td>no</td>\n",
       "      <td>no</td>\n",
       "      <td>New Zealand</td>\n",
       "      <td>no</td>\n",
       "      <td>12.999501</td>\n",
       "      <td>18 and more</td>\n",
       "      <td>Self</td>\n",
       "      <td>0</td>\n",
       "    </tr>\n",
       "    <tr>\n",
       "      <th>796</th>\n",
       "      <td>797</td>\n",
       "      <td>0</td>\n",
       "      <td>1</td>\n",
       "      <td>1</td>\n",
       "      <td>0</td>\n",
       "      <td>0</td>\n",
       "      <td>1</td>\n",
       "      <td>0</td>\n",
       "      <td>1</td>\n",
       "      <td>1</td>\n",
       "      <td>1</td>\n",
       "      <td>20.703001</td>\n",
       "      <td>m</td>\n",
       "      <td>White-European</td>\n",
       "      <td>no</td>\n",
       "      <td>no</td>\n",
       "      <td>Cyprus</td>\n",
       "      <td>no</td>\n",
       "      <td>13.561518</td>\n",
       "      <td>18 and more</td>\n",
       "      <td>Self</td>\n",
       "      <td>0</td>\n",
       "    </tr>\n",
       "    <tr>\n",
       "      <th>797</th>\n",
       "      <td>798</td>\n",
       "      <td>0</td>\n",
       "      <td>0</td>\n",
       "      <td>0</td>\n",
       "      <td>0</td>\n",
       "      <td>0</td>\n",
       "      <td>0</td>\n",
       "      <td>0</td>\n",
       "      <td>0</td>\n",
       "      <td>0</td>\n",
       "      <td>0</td>\n",
       "      <td>5.711481</td>\n",
       "      <td>m</td>\n",
       "      <td>South Asian</td>\n",
       "      <td>yes</td>\n",
       "      <td>no</td>\n",
       "      <td>New Zealand</td>\n",
       "      <td>no</td>\n",
       "      <td>2.653177</td>\n",
       "      <td>18 and more</td>\n",
       "      <td>Self</td>\n",
       "      <td>0</td>\n",
       "    </tr>\n",
       "    <tr>\n",
       "      <th>798</th>\n",
       "      <td>799</td>\n",
       "      <td>0</td>\n",
       "      <td>0</td>\n",
       "      <td>0</td>\n",
       "      <td>0</td>\n",
       "      <td>0</td>\n",
       "      <td>0</td>\n",
       "      <td>0</td>\n",
       "      <td>0</td>\n",
       "      <td>0</td>\n",
       "      <td>0</td>\n",
       "      <td>16.414305</td>\n",
       "      <td>f</td>\n",
       "      <td>?</td>\n",
       "      <td>no</td>\n",
       "      <td>no</td>\n",
       "      <td>Canada</td>\n",
       "      <td>no</td>\n",
       "      <td>9.069342</td>\n",
       "      <td>18 and more</td>\n",
       "      <td>Self</td>\n",
       "      <td>0</td>\n",
       "    </tr>\n",
       "    <tr>\n",
       "      <th>799</th>\n",
       "      <td>800</td>\n",
       "      <td>0</td>\n",
       "      <td>1</td>\n",
       "      <td>0</td>\n",
       "      <td>0</td>\n",
       "      <td>0</td>\n",
       "      <td>0</td>\n",
       "      <td>0</td>\n",
       "      <td>0</td>\n",
       "      <td>0</td>\n",
       "      <td>0</td>\n",
       "      <td>46.966113</td>\n",
       "      <td>f</td>\n",
       "      <td>?</td>\n",
       "      <td>no</td>\n",
       "      <td>no</td>\n",
       "      <td>United Arab Emirates</td>\n",
       "      <td>yes</td>\n",
       "      <td>2.243304</td>\n",
       "      <td>18 and more</td>\n",
       "      <td>Self</td>\n",
       "      <td>0</td>\n",
       "    </tr>\n",
       "  </tbody>\n",
       "</table>\n",
       "</div>"
      ],
      "text/plain": [
       "      ID  A1_Score  A2_Score  A3_Score  A4_Score  ...  used_app_before     result     age_desc  relation  Class/ASD\n",
       "795  796         0         1         0         0  ...               no  12.999501  18 and more      Self          0\n",
       "796  797         0         1         1         0  ...               no  13.561518  18 and more      Self          0\n",
       "797  798         0         0         0         0  ...               no   2.653177  18 and more      Self          0\n",
       "798  799         0         0         0         0  ...               no   9.069342  18 and more      Self          0\n",
       "799  800         0         1         0         0  ...              yes   2.243304  18 and more      Self          0\n",
       "\n",
       "[5 rows x 22 columns]"
      ]
     },
     "execution_count": 5,
     "metadata": {},
     "output_type": "execute_result"
    }
   ],
   "source": [
    "df.tail()"
   ]
  },
  {
   "cell_type": "code",
   "execution_count": 6,
   "id": "9e90cfac",
   "metadata": {},
   "outputs": [],
   "source": [
    "pd.set_option('display.max_columns', None)"
   ]
  },
  {
   "cell_type": "code",
   "execution_count": 7,
   "id": "8ec8a664",
   "metadata": {},
   "outputs": [
    {
     "data": {
      "text/html": [
       "<div>\n",
       "<style scoped>\n",
       "    .dataframe tbody tr th:only-of-type {\n",
       "        vertical-align: middle;\n",
       "    }\n",
       "\n",
       "    .dataframe tbody tr th {\n",
       "        vertical-align: top;\n",
       "    }\n",
       "\n",
       "    .dataframe thead th {\n",
       "        text-align: right;\n",
       "    }\n",
       "</style>\n",
       "<table border=\"1\" class=\"dataframe\">\n",
       "  <thead>\n",
       "    <tr style=\"text-align: right;\">\n",
       "      <th></th>\n",
       "      <th>ID</th>\n",
       "      <th>A1_Score</th>\n",
       "      <th>A2_Score</th>\n",
       "      <th>A3_Score</th>\n",
       "      <th>A4_Score</th>\n",
       "      <th>A5_Score</th>\n",
       "      <th>A6_Score</th>\n",
       "      <th>A7_Score</th>\n",
       "      <th>A8_Score</th>\n",
       "      <th>A9_Score</th>\n",
       "      <th>A10_Score</th>\n",
       "      <th>age</th>\n",
       "      <th>gender</th>\n",
       "      <th>ethnicity</th>\n",
       "      <th>jaundice</th>\n",
       "      <th>austim</th>\n",
       "      <th>contry_of_res</th>\n",
       "      <th>used_app_before</th>\n",
       "      <th>result</th>\n",
       "      <th>age_desc</th>\n",
       "      <th>relation</th>\n",
       "      <th>Class/ASD</th>\n",
       "    </tr>\n",
       "  </thead>\n",
       "  <tbody>\n",
       "    <tr>\n",
       "      <th>0</th>\n",
       "      <td>1</td>\n",
       "      <td>1</td>\n",
       "      <td>0</td>\n",
       "      <td>1</td>\n",
       "      <td>0</td>\n",
       "      <td>1</td>\n",
       "      <td>0</td>\n",
       "      <td>1</td>\n",
       "      <td>0</td>\n",
       "      <td>1</td>\n",
       "      <td>1</td>\n",
       "      <td>38.172746</td>\n",
       "      <td>f</td>\n",
       "      <td>?</td>\n",
       "      <td>no</td>\n",
       "      <td>no</td>\n",
       "      <td>Austria</td>\n",
       "      <td>no</td>\n",
       "      <td>6.351166</td>\n",
       "      <td>18 and more</td>\n",
       "      <td>Self</td>\n",
       "      <td>0</td>\n",
       "    </tr>\n",
       "    <tr>\n",
       "      <th>1</th>\n",
       "      <td>2</td>\n",
       "      <td>0</td>\n",
       "      <td>0</td>\n",
       "      <td>0</td>\n",
       "      <td>0</td>\n",
       "      <td>0</td>\n",
       "      <td>0</td>\n",
       "      <td>0</td>\n",
       "      <td>0</td>\n",
       "      <td>0</td>\n",
       "      <td>0</td>\n",
       "      <td>47.750517</td>\n",
       "      <td>m</td>\n",
       "      <td>?</td>\n",
       "      <td>no</td>\n",
       "      <td>no</td>\n",
       "      <td>India</td>\n",
       "      <td>no</td>\n",
       "      <td>2.255185</td>\n",
       "      <td>18 and more</td>\n",
       "      <td>Self</td>\n",
       "      <td>0</td>\n",
       "    </tr>\n",
       "    <tr>\n",
       "      <th>2</th>\n",
       "      <td>3</td>\n",
       "      <td>1</td>\n",
       "      <td>1</td>\n",
       "      <td>1</td>\n",
       "      <td>1</td>\n",
       "      <td>1</td>\n",
       "      <td>1</td>\n",
       "      <td>1</td>\n",
       "      <td>1</td>\n",
       "      <td>1</td>\n",
       "      <td>1</td>\n",
       "      <td>7.380373</td>\n",
       "      <td>m</td>\n",
       "      <td>White-European</td>\n",
       "      <td>no</td>\n",
       "      <td>yes</td>\n",
       "      <td>United States</td>\n",
       "      <td>no</td>\n",
       "      <td>14.851484</td>\n",
       "      <td>18 and more</td>\n",
       "      <td>Self</td>\n",
       "      <td>1</td>\n",
       "    </tr>\n",
       "    <tr>\n",
       "      <th>3</th>\n",
       "      <td>4</td>\n",
       "      <td>0</td>\n",
       "      <td>0</td>\n",
       "      <td>0</td>\n",
       "      <td>0</td>\n",
       "      <td>0</td>\n",
       "      <td>0</td>\n",
       "      <td>0</td>\n",
       "      <td>0</td>\n",
       "      <td>0</td>\n",
       "      <td>0</td>\n",
       "      <td>23.561927</td>\n",
       "      <td>f</td>\n",
       "      <td>?</td>\n",
       "      <td>no</td>\n",
       "      <td>no</td>\n",
       "      <td>United States</td>\n",
       "      <td>no</td>\n",
       "      <td>2.276617</td>\n",
       "      <td>18 and more</td>\n",
       "      <td>Self</td>\n",
       "      <td>0</td>\n",
       "    </tr>\n",
       "    <tr>\n",
       "      <th>4</th>\n",
       "      <td>5</td>\n",
       "      <td>0</td>\n",
       "      <td>0</td>\n",
       "      <td>0</td>\n",
       "      <td>0</td>\n",
       "      <td>0</td>\n",
       "      <td>0</td>\n",
       "      <td>0</td>\n",
       "      <td>0</td>\n",
       "      <td>0</td>\n",
       "      <td>0</td>\n",
       "      <td>43.205790</td>\n",
       "      <td>m</td>\n",
       "      <td>?</td>\n",
       "      <td>no</td>\n",
       "      <td>no</td>\n",
       "      <td>South Africa</td>\n",
       "      <td>no</td>\n",
       "      <td>-4.777286</td>\n",
       "      <td>18 and more</td>\n",
       "      <td>Self</td>\n",
       "      <td>0</td>\n",
       "    </tr>\n",
       "  </tbody>\n",
       "</table>\n",
       "</div>"
      ],
      "text/plain": [
       "   ID  A1_Score  A2_Score  A3_Score  A4_Score  A5_Score  A6_Score  A7_Score  \\\n",
       "0   1         1         0         1         0         1         0         1   \n",
       "1   2         0         0         0         0         0         0         0   \n",
       "2   3         1         1         1         1         1         1         1   \n",
       "3   4         0         0         0         0         0         0         0   \n",
       "4   5         0         0         0         0         0         0         0   \n",
       "\n",
       "   A8_Score  A9_Score  A10_Score        age gender       ethnicity jaundice  \\\n",
       "0         0         1          1  38.172746      f               ?       no   \n",
       "1         0         0          0  47.750517      m               ?       no   \n",
       "2         1         1          1   7.380373      m  White-European       no   \n",
       "3         0         0          0  23.561927      f               ?       no   \n",
       "4         0         0          0  43.205790      m               ?       no   \n",
       "\n",
       "  austim  contry_of_res used_app_before     result     age_desc relation  \\\n",
       "0     no        Austria              no   6.351166  18 and more     Self   \n",
       "1     no          India              no   2.255185  18 and more     Self   \n",
       "2    yes  United States              no  14.851484  18 and more     Self   \n",
       "3     no  United States              no   2.276617  18 and more     Self   \n",
       "4     no   South Africa              no  -4.777286  18 and more     Self   \n",
       "\n",
       "   Class/ASD  \n",
       "0          0  \n",
       "1          0  \n",
       "2          1  \n",
       "3          0  \n",
       "4          0  "
      ]
     },
     "execution_count": 7,
     "metadata": {},
     "output_type": "execute_result"
    }
   ],
   "source": [
    "df.head()"
   ]
  },
  {
   "cell_type": "code",
   "execution_count": 8,
   "id": "7b085e63",
   "metadata": {},
   "outputs": [
    {
     "name": "stdout",
     "output_type": "stream",
     "text": [
      "<class 'pandas.core.frame.DataFrame'>\n",
      "RangeIndex: 800 entries, 0 to 799\n",
      "Data columns (total 22 columns):\n",
      " #   Column           Non-Null Count  Dtype  \n",
      "---  ------           --------------  -----  \n",
      " 0   ID               800 non-null    int64  \n",
      " 1   A1_Score         800 non-null    int64  \n",
      " 2   A2_Score         800 non-null    int64  \n",
      " 3   A3_Score         800 non-null    int64  \n",
      " 4   A4_Score         800 non-null    int64  \n",
      " 5   A5_Score         800 non-null    int64  \n",
      " 6   A6_Score         800 non-null    int64  \n",
      " 7   A7_Score         800 non-null    int64  \n",
      " 8   A8_Score         800 non-null    int64  \n",
      " 9   A9_Score         800 non-null    int64  \n",
      " 10  A10_Score        800 non-null    int64  \n",
      " 11  age              800 non-null    float64\n",
      " 12  gender           800 non-null    object \n",
      " 13  ethnicity        800 non-null    object \n",
      " 14  jaundice         800 non-null    object \n",
      " 15  austim           800 non-null    object \n",
      " 16  contry_of_res    800 non-null    object \n",
      " 17  used_app_before  800 non-null    object \n",
      " 18  result           800 non-null    float64\n",
      " 19  age_desc         800 non-null    object \n",
      " 20  relation         800 non-null    object \n",
      " 21  Class/ASD        800 non-null    int64  \n",
      "dtypes: float64(2), int64(12), object(8)\n",
      "memory usage: 137.6+ KB\n"
     ]
    }
   ],
   "source": [
    "df.info()"
   ]
  },
  {
   "cell_type": "code",
   "execution_count": 9,
   "id": "702eec0b",
   "metadata": {},
   "outputs": [],
   "source": [
    "df['age'] = df['age'].astype(int)"
   ]
  },
  {
   "cell_type": "code",
   "execution_count": 11,
   "id": "d38302d0",
   "metadata": {},
   "outputs": [
    {
     "data": {
      "text/html": [
       "<div>\n",
       "<style scoped>\n",
       "    .dataframe tbody tr th:only-of-type {\n",
       "        vertical-align: middle;\n",
       "    }\n",
       "\n",
       "    .dataframe tbody tr th {\n",
       "        vertical-align: top;\n",
       "    }\n",
       "\n",
       "    .dataframe thead th {\n",
       "        text-align: right;\n",
       "    }\n",
       "</style>\n",
       "<table border=\"1\" class=\"dataframe\">\n",
       "  <thead>\n",
       "    <tr style=\"text-align: right;\">\n",
       "      <th></th>\n",
       "      <th>ID</th>\n",
       "      <th>A1_Score</th>\n",
       "      <th>A2_Score</th>\n",
       "      <th>A3_Score</th>\n",
       "      <th>A4_Score</th>\n",
       "      <th>A5_Score</th>\n",
       "      <th>A6_Score</th>\n",
       "      <th>A7_Score</th>\n",
       "      <th>A8_Score</th>\n",
       "      <th>A9_Score</th>\n",
       "      <th>A10_Score</th>\n",
       "      <th>age</th>\n",
       "      <th>gender</th>\n",
       "      <th>ethnicity</th>\n",
       "      <th>jaundice</th>\n",
       "      <th>austim</th>\n",
       "      <th>contry_of_res</th>\n",
       "      <th>used_app_before</th>\n",
       "      <th>result</th>\n",
       "      <th>age_desc</th>\n",
       "      <th>relation</th>\n",
       "      <th>Class/ASD</th>\n",
       "    </tr>\n",
       "  </thead>\n",
       "  <tbody>\n",
       "    <tr>\n",
       "      <th>0</th>\n",
       "      <td>1</td>\n",
       "      <td>1</td>\n",
       "      <td>0</td>\n",
       "      <td>1</td>\n",
       "      <td>0</td>\n",
       "      <td>1</td>\n",
       "      <td>0</td>\n",
       "      <td>1</td>\n",
       "      <td>0</td>\n",
       "      <td>1</td>\n",
       "      <td>1</td>\n",
       "      <td>38</td>\n",
       "      <td>f</td>\n",
       "      <td>?</td>\n",
       "      <td>no</td>\n",
       "      <td>no</td>\n",
       "      <td>Austria</td>\n",
       "      <td>no</td>\n",
       "      <td>6.351166</td>\n",
       "      <td>18 and more</td>\n",
       "      <td>Self</td>\n",
       "      <td>0</td>\n",
       "    </tr>\n",
       "    <tr>\n",
       "      <th>1</th>\n",
       "      <td>2</td>\n",
       "      <td>0</td>\n",
       "      <td>0</td>\n",
       "      <td>0</td>\n",
       "      <td>0</td>\n",
       "      <td>0</td>\n",
       "      <td>0</td>\n",
       "      <td>0</td>\n",
       "      <td>0</td>\n",
       "      <td>0</td>\n",
       "      <td>0</td>\n",
       "      <td>47</td>\n",
       "      <td>m</td>\n",
       "      <td>?</td>\n",
       "      <td>no</td>\n",
       "      <td>no</td>\n",
       "      <td>India</td>\n",
       "      <td>no</td>\n",
       "      <td>2.255185</td>\n",
       "      <td>18 and more</td>\n",
       "      <td>Self</td>\n",
       "      <td>0</td>\n",
       "    </tr>\n",
       "    <tr>\n",
       "      <th>2</th>\n",
       "      <td>3</td>\n",
       "      <td>1</td>\n",
       "      <td>1</td>\n",
       "      <td>1</td>\n",
       "      <td>1</td>\n",
       "      <td>1</td>\n",
       "      <td>1</td>\n",
       "      <td>1</td>\n",
       "      <td>1</td>\n",
       "      <td>1</td>\n",
       "      <td>1</td>\n",
       "      <td>7</td>\n",
       "      <td>m</td>\n",
       "      <td>White-European</td>\n",
       "      <td>no</td>\n",
       "      <td>yes</td>\n",
       "      <td>United States</td>\n",
       "      <td>no</td>\n",
       "      <td>14.851484</td>\n",
       "      <td>18 and more</td>\n",
       "      <td>Self</td>\n",
       "      <td>1</td>\n",
       "    </tr>\n",
       "    <tr>\n",
       "      <th>3</th>\n",
       "      <td>4</td>\n",
       "      <td>0</td>\n",
       "      <td>0</td>\n",
       "      <td>0</td>\n",
       "      <td>0</td>\n",
       "      <td>0</td>\n",
       "      <td>0</td>\n",
       "      <td>0</td>\n",
       "      <td>0</td>\n",
       "      <td>0</td>\n",
       "      <td>0</td>\n",
       "      <td>23</td>\n",
       "      <td>f</td>\n",
       "      <td>?</td>\n",
       "      <td>no</td>\n",
       "      <td>no</td>\n",
       "      <td>United States</td>\n",
       "      <td>no</td>\n",
       "      <td>2.276617</td>\n",
       "      <td>18 and more</td>\n",
       "      <td>Self</td>\n",
       "      <td>0</td>\n",
       "    </tr>\n",
       "    <tr>\n",
       "      <th>4</th>\n",
       "      <td>5</td>\n",
       "      <td>0</td>\n",
       "      <td>0</td>\n",
       "      <td>0</td>\n",
       "      <td>0</td>\n",
       "      <td>0</td>\n",
       "      <td>0</td>\n",
       "      <td>0</td>\n",
       "      <td>0</td>\n",
       "      <td>0</td>\n",
       "      <td>0</td>\n",
       "      <td>43</td>\n",
       "      <td>m</td>\n",
       "      <td>?</td>\n",
       "      <td>no</td>\n",
       "      <td>no</td>\n",
       "      <td>South Africa</td>\n",
       "      <td>no</td>\n",
       "      <td>-4.777286</td>\n",
       "      <td>18 and more</td>\n",
       "      <td>Self</td>\n",
       "      <td>0</td>\n",
       "    </tr>\n",
       "  </tbody>\n",
       "</table>\n",
       "</div>"
      ],
      "text/plain": [
       "   ID  A1_Score  A2_Score  A3_Score  A4_Score  A5_Score  A6_Score  A7_Score  \\\n",
       "0   1         1         0         1         0         1         0         1   \n",
       "1   2         0         0         0         0         0         0         0   \n",
       "2   3         1         1         1         1         1         1         1   \n",
       "3   4         0         0         0         0         0         0         0   \n",
       "4   5         0         0         0         0         0         0         0   \n",
       "\n",
       "   A8_Score  A9_Score  A10_Score  age gender       ethnicity jaundice austim  \\\n",
       "0         0         1          1   38      f               ?       no     no   \n",
       "1         0         0          0   47      m               ?       no     no   \n",
       "2         1         1          1    7      m  White-European       no    yes   \n",
       "3         0         0          0   23      f               ?       no     no   \n",
       "4         0         0          0   43      m               ?       no     no   \n",
       "\n",
       "   contry_of_res used_app_before     result     age_desc relation  Class/ASD  \n",
       "0        Austria              no   6.351166  18 and more     Self          0  \n",
       "1          India              no   2.255185  18 and more     Self          0  \n",
       "2  United States              no  14.851484  18 and more     Self          1  \n",
       "3  United States              no   2.276617  18 and more     Self          0  \n",
       "4   South Africa              no  -4.777286  18 and more     Self          0  "
      ]
     },
     "execution_count": 11,
     "metadata": {},
     "output_type": "execute_result"
    }
   ],
   "source": [
    "df.head()"
   ]
  },
  {
   "cell_type": "code",
   "execution_count": 13,
   "id": "ff9984de",
   "metadata": {},
   "outputs": [
    {
     "name": "stdout",
     "output_type": "stream",
     "text": [
      "A1_Score [1 0]\n",
      "----------------------------------------\n",
      "A2_Score [0 1]\n",
      "----------------------------------------\n",
      "A3_Score [1 0]\n",
      "----------------------------------------\n",
      "A4_Score [0 1]\n",
      "----------------------------------------\n",
      "A5_Score [1 0]\n",
      "----------------------------------------\n",
      "A6_Score [0 1]\n",
      "----------------------------------------\n",
      "A7_Score [1 0]\n",
      "----------------------------------------\n",
      "A8_Score [0 1]\n",
      "----------------------------------------\n",
      "A9_Score [1 0]\n",
      "----------------------------------------\n",
      "A10_Score [1 0]\n",
      "----------------------------------------\n",
      "gender ['f' 'm']\n",
      "----------------------------------------\n",
      "ethnicity ['?' 'White-European' 'Middle Eastern ' 'Pasifika' 'Black' 'Others'\n",
      " 'Hispanic' 'Asian' 'Turkish' 'South Asian' 'Latino' 'others']\n",
      "----------------------------------------\n",
      "jaundice ['no' 'yes']\n",
      "----------------------------------------\n",
      "austim ['no' 'yes']\n",
      "----------------------------------------\n",
      "contry_of_res ['Austria' 'India' 'United States' 'South Africa' 'Jordan'\n",
      " 'United Kingdom' 'Brazil' 'New Zealand' 'Canada' 'Kazakhstan'\n",
      " 'United Arab Emirates' 'Australia' 'Ukraine' 'Iraq' 'France' 'Malaysia'\n",
      " 'Viet Nam' 'Egypt' 'Netherlands' 'Afghanistan' 'Oman' 'Italy'\n",
      " 'AmericanSamoa' 'Bahamas' 'Saudi Arabia' 'Ireland' 'Aruba' 'Sri Lanka'\n",
      " 'Russia' 'Bolivia' 'Azerbaijan' 'Armenia' 'Serbia' 'Ethiopia' 'Sweden'\n",
      " 'Iceland' 'Hong Kong' 'Angola' 'China' 'Germany' 'Spain' 'Tonga'\n",
      " 'Pakistan' 'Iran' 'Argentina' 'Japan' 'Mexico' 'Nicaragua' 'Sierra Leone'\n",
      " 'Czech Republic' 'Niger' 'Romania' 'Cyprus' 'Belgium' 'Burundi'\n",
      " 'Bangladesh']\n",
      "----------------------------------------\n",
      "used_app_before ['no' 'yes']\n",
      "----------------------------------------\n",
      "age_desc ['18 and more']\n",
      "----------------------------------------\n",
      "relation ['Self' 'Relative' 'Parent' '?' 'Others' 'Health care professional']\n",
      "----------------------------------------\n",
      "Class/ASD [0 1]\n",
      "----------------------------------------\n"
     ]
    }
   ],
   "source": [
    "for col in df.columns:\n",
    "    numerical_features = ['ID', 'age', 'result']\n",
    "    if col not in numerical_features:\n",
    "        print(col, df[col].unique())\n",
    "        print(\"--\" * 20)"
   ]
  },
  {
   "cell_type": "code",
   "execution_count": 14,
   "id": "7d7c5df7",
   "metadata": {},
   "outputs": [],
   "source": [
    "df = df.drop(columns = ['ID', 'age_desc'])"
   ]
  },
  {
   "cell_type": "code",
   "execution_count": 15,
   "id": "e597d63d",
   "metadata": {},
   "outputs": [
    {
     "data": {
      "text/plain": [
       "(800, 20)"
      ]
     },
     "execution_count": 15,
     "metadata": {},
     "output_type": "execute_result"
    }
   ],
   "source": [
    "df.shape"
   ]
  },
  {
   "cell_type": "code",
   "execution_count": 17,
   "id": "32ffe6ec",
   "metadata": {},
   "outputs": [
    {
     "data": {
      "text/plain": [
       "array(['Austria', 'India', 'United States', 'South Africa', 'Jordan',\n",
       "       'United Kingdom', 'Brazil', 'New Zealand', 'Canada', 'Kazakhstan',\n",
       "       'United Arab Emirates', 'Australia', 'Ukraine', 'Iraq', 'France',\n",
       "       'Malaysia', 'Viet Nam', 'Egypt', 'Netherlands', 'Afghanistan',\n",
       "       'Oman', 'Italy', 'AmericanSamoa', 'Bahamas', 'Saudi Arabia',\n",
       "       'Ireland', 'Aruba', 'Sri Lanka', 'Russia', 'Bolivia', 'Azerbaijan',\n",
       "       'Armenia', 'Serbia', 'Ethiopia', 'Sweden', 'Iceland', 'Hong Kong',\n",
       "       'Angola', 'China', 'Germany', 'Spain', 'Tonga', 'Pakistan', 'Iran',\n",
       "       'Argentina', 'Japan', 'Mexico', 'Nicaragua', 'Sierra Leone',\n",
       "       'Czech Republic', 'Niger', 'Romania', 'Cyprus', 'Belgium',\n",
       "       'Burundi', 'Bangladesh'], dtype=object)"
      ]
     },
     "execution_count": 17,
     "metadata": {},
     "output_type": "execute_result"
    }
   ],
   "source": [
    "df['contry_of_res'].unique()"
   ]
  },
  {
   "cell_type": "code",
   "execution_count": 18,
   "id": "004d4112",
   "metadata": {},
   "outputs": [],
   "source": [
    "mapping = {\n",
    "    \"Viet Nam\": \"Vietnam\", \n",
    "    \"AmericanSamoa\" : \"United States\", \n",
    "    \"Hong Kong\": \"China\"\n",
    "}\n",
    "\n",
    "df['contry_of_res'] = df['contry_of_res'].replace(mapping)"
   ]
  },
  {
   "cell_type": "code",
   "execution_count": 19,
   "id": "f8d0bce0",
   "metadata": {},
   "outputs": [
    {
     "data": {
      "text/plain": [
       "array(['Austria', 'India', 'United States', 'South Africa', 'Jordan',\n",
       "       'United Kingdom', 'Brazil', 'New Zealand', 'Canada', 'Kazakhstan',\n",
       "       'United Arab Emirates', 'Australia', 'Ukraine', 'Iraq', 'France',\n",
       "       'Malaysia', 'Vietnam', 'Egypt', 'Netherlands', 'Afghanistan',\n",
       "       'Oman', 'Italy', 'Bahamas', 'Saudi Arabia', 'Ireland', 'Aruba',\n",
       "       'Sri Lanka', 'Russia', 'Bolivia', 'Azerbaijan', 'Armenia',\n",
       "       'Serbia', 'Ethiopia', 'Sweden', 'Iceland', 'China', 'Angola',\n",
       "       'Germany', 'Spain', 'Tonga', 'Pakistan', 'Iran', 'Argentina',\n",
       "       'Japan', 'Mexico', 'Nicaragua', 'Sierra Leone', 'Czech Republic',\n",
       "       'Niger', 'Romania', 'Cyprus', 'Belgium', 'Burundi', 'Bangladesh'],\n",
       "      dtype=object)"
      ]
     },
     "execution_count": 19,
     "metadata": {},
     "output_type": "execute_result"
    }
   ],
   "source": [
    "df['contry_of_res'].unique()"
   ]
  },
  {
   "cell_type": "code",
   "execution_count": 20,
   "id": "850203ca",
   "metadata": {},
   "outputs": [
    {
     "data": {
      "text/plain": [
       "0    639\n",
       "1    161\n",
       "Name: Class/ASD, dtype: int64"
      ]
     },
     "execution_count": 20,
     "metadata": {},
     "output_type": "execute_result"
    }
   ],
   "source": [
    "df['Class/ASD'].value_counts()"
   ]
  },
  {
   "cell_type": "code",
   "execution_count": 21,
   "id": "98daba14",
   "metadata": {},
   "outputs": [
    {
     "data": {
      "text/html": [
       "<div>\n",
       "<style scoped>\n",
       "    .dataframe tbody tr th:only-of-type {\n",
       "        vertical-align: middle;\n",
       "    }\n",
       "\n",
       "    .dataframe tbody tr th {\n",
       "        vertical-align: top;\n",
       "    }\n",
       "\n",
       "    .dataframe thead th {\n",
       "        text-align: right;\n",
       "    }\n",
       "</style>\n",
       "<table border=\"1\" class=\"dataframe\">\n",
       "  <thead>\n",
       "    <tr style=\"text-align: right;\">\n",
       "      <th></th>\n",
       "      <th>A1_Score</th>\n",
       "      <th>A2_Score</th>\n",
       "      <th>A3_Score</th>\n",
       "      <th>A4_Score</th>\n",
       "      <th>A5_Score</th>\n",
       "      <th>A6_Score</th>\n",
       "      <th>A7_Score</th>\n",
       "      <th>A8_Score</th>\n",
       "      <th>A9_Score</th>\n",
       "      <th>A10_Score</th>\n",
       "      <th>age</th>\n",
       "      <th>result</th>\n",
       "      <th>Class/ASD</th>\n",
       "    </tr>\n",
       "  </thead>\n",
       "  <tbody>\n",
       "    <tr>\n",
       "      <th>count</th>\n",
       "      <td>800.000000</td>\n",
       "      <td>800.000000</td>\n",
       "      <td>800.000000</td>\n",
       "      <td>800.00000</td>\n",
       "      <td>800.000000</td>\n",
       "      <td>800.000000</td>\n",
       "      <td>800.000000</td>\n",
       "      <td>800.000000</td>\n",
       "      <td>800.000000</td>\n",
       "      <td>800.000000</td>\n",
       "      <td>800.000000</td>\n",
       "      <td>800.000000</td>\n",
       "      <td>800.000000</td>\n",
       "    </tr>\n",
       "    <tr>\n",
       "      <th>mean</th>\n",
       "      <td>0.560000</td>\n",
       "      <td>0.530000</td>\n",
       "      <td>0.450000</td>\n",
       "      <td>0.41500</td>\n",
       "      <td>0.395000</td>\n",
       "      <td>0.303750</td>\n",
       "      <td>0.397500</td>\n",
       "      <td>0.508750</td>\n",
       "      <td>0.495000</td>\n",
       "      <td>0.617500</td>\n",
       "      <td>27.963750</td>\n",
       "      <td>8.537303</td>\n",
       "      <td>0.201250</td>\n",
       "    </tr>\n",
       "    <tr>\n",
       "      <th>std</th>\n",
       "      <td>0.496697</td>\n",
       "      <td>0.499411</td>\n",
       "      <td>0.497805</td>\n",
       "      <td>0.49303</td>\n",
       "      <td>0.489157</td>\n",
       "      <td>0.460164</td>\n",
       "      <td>0.489687</td>\n",
       "      <td>0.500236</td>\n",
       "      <td>0.500288</td>\n",
       "      <td>0.486302</td>\n",
       "      <td>16.329827</td>\n",
       "      <td>4.807676</td>\n",
       "      <td>0.401185</td>\n",
       "    </tr>\n",
       "    <tr>\n",
       "      <th>min</th>\n",
       "      <td>0.000000</td>\n",
       "      <td>0.000000</td>\n",
       "      <td>0.000000</td>\n",
       "      <td>0.00000</td>\n",
       "      <td>0.000000</td>\n",
       "      <td>0.000000</td>\n",
       "      <td>0.000000</td>\n",
       "      <td>0.000000</td>\n",
       "      <td>0.000000</td>\n",
       "      <td>0.000000</td>\n",
       "      <td>2.000000</td>\n",
       "      <td>-6.137748</td>\n",
       "      <td>0.000000</td>\n",
       "    </tr>\n",
       "    <tr>\n",
       "      <th>25%</th>\n",
       "      <td>0.000000</td>\n",
       "      <td>0.000000</td>\n",
       "      <td>0.000000</td>\n",
       "      <td>0.00000</td>\n",
       "      <td>0.000000</td>\n",
       "      <td>0.000000</td>\n",
       "      <td>0.000000</td>\n",
       "      <td>0.000000</td>\n",
       "      <td>0.000000</td>\n",
       "      <td>0.000000</td>\n",
       "      <td>17.000000</td>\n",
       "      <td>5.306575</td>\n",
       "      <td>0.000000</td>\n",
       "    </tr>\n",
       "    <tr>\n",
       "      <th>50%</th>\n",
       "      <td>1.000000</td>\n",
       "      <td>1.000000</td>\n",
       "      <td>0.000000</td>\n",
       "      <td>0.00000</td>\n",
       "      <td>0.000000</td>\n",
       "      <td>0.000000</td>\n",
       "      <td>0.000000</td>\n",
       "      <td>1.000000</td>\n",
       "      <td>0.000000</td>\n",
       "      <td>1.000000</td>\n",
       "      <td>24.000000</td>\n",
       "      <td>9.605299</td>\n",
       "      <td>0.000000</td>\n",
       "    </tr>\n",
       "    <tr>\n",
       "      <th>75%</th>\n",
       "      <td>1.000000</td>\n",
       "      <td>1.000000</td>\n",
       "      <td>1.000000</td>\n",
       "      <td>1.00000</td>\n",
       "      <td>1.000000</td>\n",
       "      <td>1.000000</td>\n",
       "      <td>1.000000</td>\n",
       "      <td>1.000000</td>\n",
       "      <td>1.000000</td>\n",
       "      <td>1.000000</td>\n",
       "      <td>35.250000</td>\n",
       "      <td>12.514484</td>\n",
       "      <td>0.000000</td>\n",
       "    </tr>\n",
       "    <tr>\n",
       "      <th>max</th>\n",
       "      <td>1.000000</td>\n",
       "      <td>1.000000</td>\n",
       "      <td>1.000000</td>\n",
       "      <td>1.00000</td>\n",
       "      <td>1.000000</td>\n",
       "      <td>1.000000</td>\n",
       "      <td>1.000000</td>\n",
       "      <td>1.000000</td>\n",
       "      <td>1.000000</td>\n",
       "      <td>1.000000</td>\n",
       "      <td>89.000000</td>\n",
       "      <td>15.853126</td>\n",
       "      <td>1.000000</td>\n",
       "    </tr>\n",
       "  </tbody>\n",
       "</table>\n",
       "</div>"
      ],
      "text/plain": [
       "         A1_Score    A2_Score    A3_Score   A4_Score    A5_Score    A6_Score  \\\n",
       "count  800.000000  800.000000  800.000000  800.00000  800.000000  800.000000   \n",
       "mean     0.560000    0.530000    0.450000    0.41500    0.395000    0.303750   \n",
       "std      0.496697    0.499411    0.497805    0.49303    0.489157    0.460164   \n",
       "min      0.000000    0.000000    0.000000    0.00000    0.000000    0.000000   \n",
       "25%      0.000000    0.000000    0.000000    0.00000    0.000000    0.000000   \n",
       "50%      1.000000    1.000000    0.000000    0.00000    0.000000    0.000000   \n",
       "75%      1.000000    1.000000    1.000000    1.00000    1.000000    1.000000   \n",
       "max      1.000000    1.000000    1.000000    1.00000    1.000000    1.000000   \n",
       "\n",
       "         A7_Score    A8_Score    A9_Score   A10_Score         age      result  \\\n",
       "count  800.000000  800.000000  800.000000  800.000000  800.000000  800.000000   \n",
       "mean     0.397500    0.508750    0.495000    0.617500   27.963750    8.537303   \n",
       "std      0.489687    0.500236    0.500288    0.486302   16.329827    4.807676   \n",
       "min      0.000000    0.000000    0.000000    0.000000    2.000000   -6.137748   \n",
       "25%      0.000000    0.000000    0.000000    0.000000   17.000000    5.306575   \n",
       "50%      0.000000    1.000000    0.000000    1.000000   24.000000    9.605299   \n",
       "75%      1.000000    1.000000    1.000000    1.000000   35.250000   12.514484   \n",
       "max      1.000000    1.000000    1.000000    1.000000   89.000000   15.853126   \n",
       "\n",
       "        Class/ASD  \n",
       "count  800.000000  \n",
       "mean     0.201250  \n",
       "std      0.401185  \n",
       "min      0.000000  \n",
       "25%      0.000000  \n",
       "50%      0.000000  \n",
       "75%      0.000000  \n",
       "max      1.000000  "
      ]
     },
     "execution_count": 21,
     "metadata": {},
     "output_type": "execute_result"
    }
   ],
   "source": [
    "df.describe()"
   ]
  },
  {
   "cell_type": "code",
   "execution_count": 22,
   "id": "cd72a60e",
   "metadata": {},
   "outputs": [],
   "source": [
    "sns.set_theme(style = 'darkgrid')"
   ]
  },
  {
   "cell_type": "code",
   "execution_count": 23,
   "id": "8792647c",
   "metadata": {},
   "outputs": [
    {
     "name": "stdout",
     "output_type": "stream",
     "text": [
      "Age Mean:  27.96375\n",
      "Age Median:  24.0\n"
     ]
    },
    {
     "data": {
      "image/png": "[encoded data removed]",
      "text/plain": [
       "<Figure size 432x288 with 1 Axes>"
      ]
     },
     "metadata": {
      "needs_background": "light"
     },
     "output_type": "display_data"
    }
   ],
   "source": [
    "sns.histplot(df['age'], kde = True)\n",
    "plt.title(\"Distribution of Age\")\n",
    "\n",
    "age_mean = df['age'].mean()\n",
    "age_median = df['age'].median()\n",
    "\n",
    "print(\"Age Mean: \", age_mean)\n",
    "print(\"Age Median: \", age_median)\n",
    "\n",
    "plt.axvline(age_mean, color=\"red\", linestyle = \"--\", label = \"Mean\")\n",
    "\n",
    "plt.axvline(age_median, color=\"red\", linestyle = \"--\", label = \"Median\")\n",
    "\n",
    "plt.legend()\n",
    "plt.show()"
   ]
  },
  {
   "cell_type": "code",
   "execution_count": 24,
   "id": "f40e6dde",
   "metadata": {},
   "outputs": [
    {
     "name": "stdout",
     "output_type": "stream",
     "text": [
      "Result Mean:  8.537303106501248\n",
      "Result Median:  9.605299308\n"
     ]
    },
    {
     "data": {
      "image/png": "[encoded data removed]",
      "text/plain": [
       "<Figure size 432x288 with 1 Axes>"
      ]
     },
     "metadata": {
      "needs_background": "light"
     },
     "output_type": "display_data"
    }
   ],
   "source": [
    "sns.histplot(df['result'], kde = True)\n",
    "plt.title(\"Distribution of Result\")\n",
    "\n",
    "result_mean = df['result'].mean()\n",
    "result_median = df['result'].median()\n",
    "\n",
    "print(\"Result Mean: \", result_mean)\n",
    "print(\"Result Median: \", result_median)\n",
    "\n",
    "plt.axvline(result_mean, color=\"red\", linestyle = \"--\", label = \"Mean\")\n",
    "\n",
    "plt.axvline(result_median, color=\"red\", linestyle = \"--\", label = \"Median\")\n",
    "\n",
    "plt.legend()\n",
    "plt.show()"
   ]
  },
  {
   "cell_type": "code",
   "execution_count": 25,
   "id": "e4228db4",
   "metadata": {},
   "outputs": [
    {
     "data": {
      "image/png": "[encoded data removed]",
      "text/plain": [
       "<Figure size 432x288 with 1 Axes>"
      ]
     },
     "metadata": {
      "needs_background": "light"
     },
     "output_type": "display_data"
    }
   ],
   "source": [
    "sns.boxplot(x = df['age'])\n",
    "plt.title(\"Box plot for Age\")\n",
    "plt.xlabel(\"Age\")\n",
    "plt.show()"
   ]
  },
  {
   "cell_type": "code",
   "execution_count": 26,
   "id": "963daa66",
   "metadata": {},
   "outputs": [
    {
     "data": {
      "image/png": "[encoded data removed]",
      "text/plain": [
       "<Figure size 432x288 with 1 Axes>"
      ]
     },
     "metadata": {
      "needs_background": "light"
     },
     "output_type": "display_data"
    }
   ],
   "source": [
    "sns.boxplot(x = df['result'])\n",
    "plt.title(\"Box plot for result\")\n",
    "plt.xlabel(\"Result\")\n",
    "plt.show()"
   ]
  },
  {
   "cell_type": "code",
   "execution_count": 27,
   "id": "1d92ce64",
   "metadata": {},
   "outputs": [
    {
     "data": {
      "text/html": [
       "<div>\n",
       "<style scoped>\n",
       "    .dataframe tbody tr th:only-of-type {\n",
       "        vertical-align: middle;\n",
       "    }\n",
       "\n",
       "    .dataframe tbody tr th {\n",
       "        vertical-align: top;\n",
       "    }\n",
       "\n",
       "    .dataframe thead th {\n",
       "        text-align: right;\n",
       "    }\n",
       "</style>\n",
       "<table border=\"1\" class=\"dataframe\">\n",
       "  <thead>\n",
       "    <tr style=\"text-align: right;\">\n",
       "      <th></th>\n",
       "      <th>A1_Score</th>\n",
       "      <th>A2_Score</th>\n",
       "      <th>A3_Score</th>\n",
       "      <th>A4_Score</th>\n",
       "      <th>A5_Score</th>\n",
       "      <th>A6_Score</th>\n",
       "      <th>A7_Score</th>\n",
       "      <th>A8_Score</th>\n",
       "      <th>A9_Score</th>\n",
       "      <th>A10_Score</th>\n",
       "      <th>age</th>\n",
       "      <th>result</th>\n",
       "      <th>Class/ASD</th>\n",
       "    </tr>\n",
       "  </thead>\n",
       "  <tbody>\n",
       "    <tr>\n",
       "      <th>count</th>\n",
       "      <td>800.000000</td>\n",
       "      <td>800.000000</td>\n",
       "      <td>800.000000</td>\n",
       "      <td>800.00000</td>\n",
       "      <td>800.000000</td>\n",
       "      <td>800.000000</td>\n",
       "      <td>800.000000</td>\n",
       "      <td>800.000000</td>\n",
       "      <td>800.000000</td>\n",
       "      <td>800.000000</td>\n",
       "      <td>800.000000</td>\n",
       "      <td>800.000000</td>\n",
       "      <td>800.000000</td>\n",
       "    </tr>\n",
       "    <tr>\n",
       "      <th>mean</th>\n",
       "      <td>0.560000</td>\n",
       "      <td>0.530000</td>\n",
       "      <td>0.450000</td>\n",
       "      <td>0.41500</td>\n",
       "      <td>0.395000</td>\n",
       "      <td>0.303750</td>\n",
       "      <td>0.397500</td>\n",
       "      <td>0.508750</td>\n",
       "      <td>0.495000</td>\n",
       "      <td>0.617500</td>\n",
       "      <td>27.963750</td>\n",
       "      <td>8.537303</td>\n",
       "      <td>0.201250</td>\n",
       "    </tr>\n",
       "    <tr>\n",
       "      <th>std</th>\n",
       "      <td>0.496697</td>\n",
       "      <td>0.499411</td>\n",
       "      <td>0.497805</td>\n",
       "      <td>0.49303</td>\n",
       "      <td>0.489157</td>\n",
       "      <td>0.460164</td>\n",
       "      <td>0.489687</td>\n",
       "      <td>0.500236</td>\n",
       "      <td>0.500288</td>\n",
       "      <td>0.486302</td>\n",
       "      <td>16.329827</td>\n",
       "      <td>4.807676</td>\n",
       "      <td>0.401185</td>\n",
       "    </tr>\n",
       "    <tr>\n",
       "      <th>min</th>\n",
       "      <td>0.000000</td>\n",
       "      <td>0.000000</td>\n",
       "      <td>0.000000</td>\n",
       "      <td>0.00000</td>\n",
       "      <td>0.000000</td>\n",
       "      <td>0.000000</td>\n",
       "      <td>0.000000</td>\n",
       "      <td>0.000000</td>\n",
       "      <td>0.000000</td>\n",
       "      <td>0.000000</td>\n",
       "      <td>2.000000</td>\n",
       "      <td>-6.137748</td>\n",
       "      <td>0.000000</td>\n",
       "    </tr>\n",
       "    <tr>\n",
       "      <th>25%</th>\n",
       "      <td>0.000000</td>\n",
       "      <td>0.000000</td>\n",
       "      <td>0.000000</td>\n",
       "      <td>0.00000</td>\n",
       "      <td>0.000000</td>\n",
       "      <td>0.000000</td>\n",
       "      <td>0.000000</td>\n",
       "      <td>0.000000</td>\n",
       "      <td>0.000000</td>\n",
       "      <td>0.000000</td>\n",
       "      <td>17.000000</td>\n",
       "      <td>5.306575</td>\n",
       "      <td>0.000000</td>\n",
       "    </tr>\n",
       "    <tr>\n",
       "      <th>50%</th>\n",
       "      <td>1.000000</td>\n",
       "      <td>1.000000</td>\n",
       "      <td>0.000000</td>\n",
       "      <td>0.00000</td>\n",
       "      <td>0.000000</td>\n",
       "      <td>0.000000</td>\n",
       "      <td>0.000000</td>\n",
       "      <td>1.000000</td>\n",
       "      <td>0.000000</td>\n",
       "      <td>1.000000</td>\n",
       "      <td>24.000000</td>\n",
       "      <td>9.605299</td>\n",
       "      <td>0.000000</td>\n",
       "    </tr>\n",
       "    <tr>\n",
       "      <th>75%</th>\n",
       "      <td>1.000000</td>\n",
       "      <td>1.000000</td>\n",
       "      <td>1.000000</td>\n",
       "      <td>1.00000</td>\n",
       "      <td>1.000000</td>\n",
       "      <td>1.000000</td>\n",
       "      <td>1.000000</td>\n",
       "      <td>1.000000</td>\n",
       "      <td>1.000000</td>\n",
       "      <td>1.000000</td>\n",
       "      <td>35.250000</td>\n",
       "      <td>12.514484</td>\n",
       "      <td>0.000000</td>\n",
       "    </tr>\n",
       "    <tr>\n",
       "      <th>max</th>\n",
       "      <td>1.000000</td>\n",
       "      <td>1.000000</td>\n",
       "      <td>1.000000</td>\n",
       "      <td>1.00000</td>\n",
       "      <td>1.000000</td>\n",
       "      <td>1.000000</td>\n",
       "      <td>1.000000</td>\n",
       "      <td>1.000000</td>\n",
       "      <td>1.000000</td>\n",
       "      <td>1.000000</td>\n",
       "      <td>89.000000</td>\n",
       "      <td>15.853126</td>\n",
       "      <td>1.000000</td>\n",
       "    </tr>\n",
       "  </tbody>\n",
       "</table>\n",
       "</div>"
      ],
      "text/plain": [
       "         A1_Score    A2_Score    A3_Score   A4_Score    A5_Score    A6_Score  \\\n",
       "count  800.000000  800.000000  800.000000  800.00000  800.000000  800.000000   \n",
       "mean     0.560000    0.530000    0.450000    0.41500    0.395000    0.303750   \n",
       "std      0.496697    0.499411    0.497805    0.49303    0.489157    0.460164   \n",
       "min      0.000000    0.000000    0.000000    0.00000    0.000000    0.000000   \n",
       "25%      0.000000    0.000000    0.000000    0.00000    0.000000    0.000000   \n",
       "50%      1.000000    1.000000    0.000000    0.00000    0.000000    0.000000   \n",
       "75%      1.000000    1.000000    1.000000    1.00000    1.000000    1.000000   \n",
       "max      1.000000    1.000000    1.000000    1.00000    1.000000    1.000000   \n",
       "\n",
       "         A7_Score    A8_Score    A9_Score   A10_Score         age      result  \\\n",
       "count  800.000000  800.000000  800.000000  800.000000  800.000000  800.000000   \n",
       "mean     0.397500    0.508750    0.495000    0.617500   27.963750    8.537303   \n",
       "std      0.489687    0.500236    0.500288    0.486302   16.329827    4.807676   \n",
       "min      0.000000    0.000000    0.000000    0.000000    2.000000   -6.137748   \n",
       "25%      0.000000    0.000000    0.000000    0.000000   17.000000    5.306575   \n",
       "50%      0.000000    1.000000    0.000000    1.000000   24.000000    9.605299   \n",
       "75%      1.000000    1.000000    1.000000    1.000000   35.250000   12.514484   \n",
       "max      1.000000    1.000000    1.000000    1.000000   89.000000   15.853126   \n",
       "\n",
       "        Class/ASD  \n",
       "count  800.000000  \n",
       "mean     0.201250  \n",
       "std      0.401185  \n",
       "min      0.000000  \n",
       "25%      0.000000  \n",
       "50%      0.000000  \n",
       "75%      0.000000  \n",
       "max      1.000000  "
      ]
     },
     "execution_count": 27,
     "metadata": {},
     "output_type": "execute_result"
    }
   ],
   "source": [
    "df.describe()"
   ]
  },
  {
   "cell_type": "code",
   "execution_count": 28,
   "id": "522defbd",
   "metadata": {},
   "outputs": [],
   "source": [
    "Q1 = df['age'].quantile(0.25)\n",
    "Q3 = df['age'].quantile(0.75)\n",
    "IQR  = Q3 - Q1\n",
    "lower_bound = Q1 - 1.5 * IQR\n",
    "upper_bound = Q3 + 1.5 * IQR\n",
    "\n",
    "age_outliers = df[(df['age']< lower_bound) | (df['age']> upper_bound)]"
   ]
  },
  {
   "cell_type": "code",
   "execution_count": 31,
   "id": "612c6e30",
   "metadata": {},
   "outputs": [
    {
     "name": "stdout",
     "output_type": "stream",
     "text": [
      "Lower Bound:  -10.375\n",
      "Upper Bound:  62.625\n"
     ]
    }
   ],
   "source": [
    "print(\"Lower Bound: \", lower_bound)\n",
    "print(\"Upper Bound: \", upper_bound)"
   ]
  },
  {
   "cell_type": "code",
   "execution_count": 30,
   "id": "5e1ada96",
   "metadata": {},
   "outputs": [
    {
     "data": {
      "text/plain": [
       "39"
      ]
     },
     "execution_count": 30,
     "metadata": {},
     "output_type": "execute_result"
    }
   ],
   "source": [
    "len(age_outliers)"
   ]
  },
  {
   "cell_type": "code",
   "execution_count": 32,
   "id": "880966a7",
   "metadata": {},
   "outputs": [],
   "source": [
    "Q1 = df['result'].quantile(0.25)\n",
    "Q3 = df['result'].quantile(0.75)\n",
    "IQR  = Q3 - Q1\n",
    "lower_bound = Q1 - 1.5 * IQR\n",
    "upper_bound = Q3 + 1.5 * IQR\n",
    "\n",
    "result_outliers = df[(df['result']< lower_bound) | (df['result']> upper_bound)]"
   ]
  },
  {
   "cell_type": "code",
   "execution_count": 33,
   "id": "d79392f0",
   "metadata": {},
   "outputs": [
    {
     "name": "stdout",
     "output_type": "stream",
     "text": [
      "Lower Bound:  -5.5052896818749995\n",
      "Upper Bound:  23.326348605125\n"
     ]
    }
   ],
   "source": [
    "print(\"Lower Bound: \", lower_bound)\n",
    "print(\"Upper Bound: \", upper_bound)"
   ]
  },
  {
   "cell_type": "code",
   "execution_count": 34,
   "id": "f696630c",
   "metadata": {},
   "outputs": [
    {
     "data": {
      "text/plain": [
       "1"
      ]
     },
     "execution_count": 34,
     "metadata": {},
     "output_type": "execute_result"
    }
   ],
   "source": [
    "len(result_outliers)"
   ]
  },
  {
   "cell_type": "code",
   "execution_count": 35,
   "id": "9ff9250c",
   "metadata": {},
   "outputs": [
    {
     "data": {
      "text/plain": [
       "Index(['A1_Score', 'A2_Score', 'A3_Score', 'A4_Score', 'A5_Score', 'A6_Score',\n",
       "       'A7_Score', 'A8_Score', 'A9_Score', 'A10_Score', 'age', 'gender',\n",
       "       'ethnicity', 'jaundice', 'austim', 'contry_of_res', 'used_app_before',\n",
       "       'result', 'relation', 'Class/ASD'],\n",
       "      dtype='object')"
      ]
     },
     "execution_count": 35,
     "metadata": {},
     "output_type": "execute_result"
    }
   ],
   "source": [
    "df.columns"
   ]
  },
  {
   "cell_type": "code",
   "execution_count": 36,
   "id": "2a4540cc",
   "metadata": {},
   "outputs": [
    {
     "data": {
      "image/png": "[encoded data removed]",
      "text/plain": [
       "<Figure size 432x288 with 1 Axes>"
      ]
     },
     "metadata": {
      "needs_background": "light"
     },
     "output_type": "display_data"
    },
    {
     "data": {
      "image/png": "[encoded data removed]",
      "text/plain": [
       "<Figure size 432x288 with 1 Axes>"
      ]
     },
     "metadata": {
      "needs_background": "light"
     },
     "output_type": "display_data"
    },
    {
     "data": {
      "image/png": "[encoded data removed]",
      "text/plain": [
       "<Figure size 432x288 with 1 Axes>"
      ]
     },
     "metadata": {
      "needs_background": "light"
     },
     "output_type": "display_data"
    },
    {
     "data": {
      "image/png": "[encoded data removed]",
      "text/plain": [
       "<Figure size 432x288 with 1 Axes>"
      ]
     },
     "metadata": {
      "needs_background": "light"
     },
     "output_type": "display_data"
    },
    {
     "data": {
      "image/png": "[encoded data removed]",
      "text/plain": [
       "<Figure size 432x288 with 1 Axes>"
      ]
     },
     "metadata": {
      "needs_background": "light"
     },
     "output_type": "display_data"
    },
    {
     "data": {
      "image/png": "[encoded data removed]",
      "text/plain": [
       "<Figure size 432x288 with 1 Axes>"
      ]
     },
     "metadata": {
      "needs_background": "light"
     },
     "output_type": "display_data"
    },
    {
     "data": {
      "image/png": "[encoded data removed]",
      "text/plain": [
       "<Figure size 432x288 with 1 Axes>"
      ]
     },
     "metadata": {
      "needs_background": "light"
     },
     "output_type": "display_data"
    },
    {
     "data": {
      "image/png": "[encoded data removed]",
      "text/plain": [
       "<Figure size 432x288 with 1 Axes>"
      ]
     },
     "metadata": {
      "needs_background": "light"
     },
     "output_type": "display_data"
    },
    {
     "data": {
      "image/png": "[encoded data removed]",
      "text/plain": [
       "<Figure size 432x288 with 1 Axes>"
      ]
     },
     "metadata": {
      "needs_background": "light"
     },
     "output_type": "display_data"
    },
    {
     "data": {
      "image/png": "[encoded data removed]",
      "text/plain": [
       "<Figure size 432x288 with 1 Axes>"
      ]
     },
     "metadata": {
      "needs_background": "light"
     },
     "output_type": "display_data"
    },
    {
     "data": {
      "image/png": "[encoded data removed]",
      "text/plain": [
       "<Figure size 432x288 with 1 Axes>"
      ]
     },
     "metadata": {
      "needs_background": "light"
     },
     "output_type": "display_data"
    },
    {
     "data": {
      "image/png": "[encoded data removed]",
      "text/plain": [
       "<Figure size 432x288 with 1 Axes>"
      ]
     },
     "metadata": {
      "needs_background": "light"
     },
     "output_type": "display_data"
    },
    {
     "data": {
      "image/png": "[encoded data removed]",
      "text/plain": [
       "<Figure size 432x288 with 1 Axes>"
      ]
     },
     "metadata": {
      "needs_background": "light"
     },
     "output_type": "display_data"
    },
    {
     "data": {
      "image/png": "[encoded data removed]",
      "text/plain": [
       "<Figure size 432x288 with 1 Axes>"
      ]
     },
     "metadata": {
      "needs_background": "light"
     },
     "output_type": "display_data"
    },
    {
     "data": {
      "image/png": "[encoded data removed]",
      "text/plain": [
       "<Figure size 432x288 with 1 Axes>"
      ]
     },
     "metadata": {
      "needs_background": "light"
     },
     "output_type": "display_data"
    },
    {
     "data": {
      "image/png": "[encoded data removed]",
      "text/plain": [
       "<Figure size 432x288 with 1 Axes>"
      ]
     },
     "metadata": {
      "needs_background": "light"
     },
     "output_type": "display_data"
    },
    {
     "data": {
      "image/png": "[encoded data removed]",
      "text/plain": [
       "<Figure size 432x288 with 1 Axes>"
      ]
     },
     "metadata": {
      "needs_background": "light"
     },
     "output_type": "display_data"
    }
   ],
   "source": [
    "categorical_columns = ['A1_Score', 'A2_Score', 'A3_Score', 'A4_Score', 'A5_Score', 'A6_Score',\n",
    "       'A7_Score', 'A8_Score', 'A9_Score', 'A10_Score', 'gender',\n",
    "       'ethnicity', 'jaundice', 'austim', 'contry_of_res', 'used_app_before',\n",
    "        'relation']\n",
    "\n",
    "for col in categorical_columns:\n",
    "    sns.countplot(x = df[col])\n",
    "    plt.title(f\"Count PLot for {col}\")\n",
    "    plt.xlabel(col)\n",
    "    plt.ylabel(\"Count\")\n",
    "    plt.show()"
   ]
  },
  {
   "cell_type": "code",
   "execution_count": 37,
   "id": "859ff22d",
   "metadata": {},
   "outputs": [
    {
     "data": {
      "image/png": "[encoded data removed]",
      "text/plain": [
       "<Figure size 432x288 with 1 Axes>"
      ]
     },
     "metadata": {
      "needs_background": "light"
     },
     "output_type": "display_data"
    }
   ],
   "source": [
    "sns.countplot(x = df['Class/ASD'])\n",
    "plt.title(\"Count plot for Class/ASD\")\n",
    "plt.xlabel(\"Class/ASD\")\n",
    "plt.ylabel(\"Count\")\n",
    "plt.show()"
   ]
  },
  {
   "cell_type": "code",
   "execution_count": 38,
   "id": "3814f57e",
   "metadata": {},
   "outputs": [
    {
     "data": {
      "text/plain": [
       "0    639\n",
       "1    161\n",
       "Name: Class/ASD, dtype: int64"
      ]
     },
     "execution_count": 38,
     "metadata": {},
     "output_type": "execute_result"
    }
   ],
   "source": [
    "df['Class/ASD'].value_counts()"
   ]
  },
  {
   "cell_type": "code",
   "execution_count": 39,
   "id": "c9769bbc",
   "metadata": {},
   "outputs": [
    {
     "name": "stdout",
     "output_type": "stream",
     "text": [
      "A1_Score [1 0]\n",
      "----------------------------------------\n",
      "A2_Score [0 1]\n",
      "----------------------------------------\n",
      "A3_Score [1 0]\n",
      "----------------------------------------\n",
      "A4_Score [0 1]\n",
      "----------------------------------------\n",
      "A5_Score [1 0]\n",
      "----------------------------------------\n",
      "A6_Score [0 1]\n",
      "----------------------------------------\n",
      "A7_Score [1 0]\n",
      "----------------------------------------\n",
      "A8_Score [0 1]\n",
      "----------------------------------------\n",
      "A9_Score [1 0]\n",
      "----------------------------------------\n",
      "A10_Score [1 0]\n",
      "----------------------------------------\n",
      "gender ['f' 'm']\n",
      "----------------------------------------\n",
      "ethnicity ['?' 'White-European' 'Middle Eastern ' 'Pasifika' 'Black' 'Others'\n",
      " 'Hispanic' 'Asian' 'Turkish' 'South Asian' 'Latino' 'others']\n",
      "----------------------------------------\n",
      "jaundice ['no' 'yes']\n",
      "----------------------------------------\n",
      "austim ['no' 'yes']\n",
      "----------------------------------------\n",
      "contry_of_res ['Austria' 'India' 'United States' 'South Africa' 'Jordan'\n",
      " 'United Kingdom' 'Brazil' 'New Zealand' 'Canada' 'Kazakhstan'\n",
      " 'United Arab Emirates' 'Australia' 'Ukraine' 'Iraq' 'France' 'Malaysia'\n",
      " 'Vietnam' 'Egypt' 'Netherlands' 'Afghanistan' 'Oman' 'Italy' 'Bahamas'\n",
      " 'Saudi Arabia' 'Ireland' 'Aruba' 'Sri Lanka' 'Russia' 'Bolivia'\n",
      " 'Azerbaijan' 'Armenia' 'Serbia' 'Ethiopia' 'Sweden' 'Iceland' 'China'\n",
      " 'Angola' 'Germany' 'Spain' 'Tonga' 'Pakistan' 'Iran' 'Argentina' 'Japan'\n",
      " 'Mexico' 'Nicaragua' 'Sierra Leone' 'Czech Republic' 'Niger' 'Romania'\n",
      " 'Cyprus' 'Belgium' 'Burundi' 'Bangladesh']\n",
      "----------------------------------------\n",
      "used_app_before ['no' 'yes']\n",
      "----------------------------------------\n",
      "relation ['Self' 'Relative' 'Parent' '?' 'Others' 'Health care professional']\n",
      "----------------------------------------\n",
      "Class/ASD [0 1]\n",
      "----------------------------------------\n"
     ]
    }
   ],
   "source": [
    "for col in df.columns:\n",
    "    numerical_features = ['ID', 'age', 'result']\n",
    "    if col not in numerical_features:\n",
    "        print(col, df[col].unique())\n",
    "        print(\"--\" * 20)"
   ]
  },
  {
   "cell_type": "code",
   "execution_count": 40,
   "id": "454f5608",
   "metadata": {},
   "outputs": [],
   "source": [
    "df['ethnicity'] = df['ethnicity'].replace({\"?\": \"Others\", \"others\": \"Others\"})"
   ]
  },
  {
   "cell_type": "code",
   "execution_count": 42,
   "id": "b01d9b96",
   "metadata": {},
   "outputs": [
    {
     "data": {
      "text/plain": [
       "array(['Others', 'White-European', 'Middle Eastern ', 'Pasifika', 'Black',\n",
       "       'Hispanic', 'Asian', 'Turkish', 'South Asian', 'Latino'],\n",
       "      dtype=object)"
      ]
     },
     "execution_count": 42,
     "metadata": {},
     "output_type": "execute_result"
    }
   ],
   "source": [
    "df['ethnicity'].unique()"
   ]
  },
  {
   "cell_type": "code",
   "execution_count": 43,
   "id": "4a0fb114",
   "metadata": {},
   "outputs": [
    {
     "data": {
      "text/plain": [
       "array(['Self', 'Relative', 'Parent', '?', 'Others',\n",
       "       'Health care professional'], dtype=object)"
      ]
     },
     "execution_count": 43,
     "metadata": {},
     "output_type": "execute_result"
    }
   ],
   "source": [
    "df['relation'].unique()"
   ]
  },
  {
   "cell_type": "code",
   "execution_count": 44,
   "id": "68061ff3",
   "metadata": {},
   "outputs": [],
   "source": [
    "df['relation']  = df['relation'].replace(\n",
    "{\n",
    "    \"?\": \"Others\", \n",
    "    \"Relative\": \"Others\",\n",
    "    \"Parent\": \"Others\", \n",
    "    \"Health care professional\": \"Others\"\n",
    "})"
   ]
  },
  {
   "cell_type": "code",
   "execution_count": 45,
   "id": "7ab19ad6",
   "metadata": {},
   "outputs": [
    {
     "data": {
      "text/plain": [
       "array(['Self', 'Others'], dtype=object)"
      ]
     },
     "execution_count": 45,
     "metadata": {},
     "output_type": "execute_result"
    }
   ],
   "source": [
    "df['relation'].unique()"
   ]
  },
  {
   "cell_type": "code",
   "execution_count": 47,
   "id": "253542b9",
   "metadata": {},
   "outputs": [],
   "source": [
    "object_columns = df.select_dtypes(include = [\"object\"]).columns"
   ]
  },
  {
   "cell_type": "code",
   "execution_count": 48,
   "id": "0bb25b60",
   "metadata": {},
   "outputs": [
    {
     "data": {
      "text/plain": [
       "Index(['gender', 'ethnicity', 'jaundice', 'austim', 'contry_of_res',\n",
       "       'used_app_before', 'relation'],\n",
       "      dtype='object')"
      ]
     },
     "execution_count": 48,
     "metadata": {},
     "output_type": "execute_result"
    }
   ],
   "source": [
    "object_columns"
   ]
  },
  {
   "cell_type": "code",
   "execution_count": 49,
   "id": "dddc71f3",
   "metadata": {},
   "outputs": [],
   "source": [
    "encoders = {}\n",
    "for column in object_columns:\n",
    "    label_encoder = LabelEncoder()\n",
    "    df[column]  = label_encoder.fit_transform(df[column])\n",
    "    encoders[column]  = label_encoder\n",
    "    \n",
    "with open(\"encoders.pkl\", \"wb\") as f:\n",
    "    pickle.dump(encoders, f)"
   ]
  },
  {
   "cell_type": "code",
   "execution_count": 50,
   "id": "8c252033",
   "metadata": {},
   "outputs": [
    {
     "data": {
      "text/plain": [
       "{'gender': LabelEncoder(),\n",
       " 'ethnicity': LabelEncoder(),\n",
       " 'jaundice': LabelEncoder(),\n",
       " 'austim': LabelEncoder(),\n",
       " 'contry_of_res': LabelEncoder(),\n",
       " 'used_app_before': LabelEncoder(),\n",
       " 'relation': LabelEncoder()}"
      ]
     },
     "execution_count": 50,
     "metadata": {},
     "output_type": "execute_result"
    }
   ],
   "source": [
    "encoders"
   ]
  },
  {
   "cell_type": "code",
   "execution_count": 51,
   "id": "123bb849",
   "metadata": {},
   "outputs": [
    {
     "data": {
      "image/png": "[encoded data removed]",
      "text/plain": [
       "<Figure size 1080x1080 with 2 Axes>"
      ]
     },
     "metadata": {
      "needs_background": "light"
     },
     "output_type": "display_data"
    }
   ],
   "source": [
    "plt.figure(figsize = (15, 15))\n",
    "sns.heatmap(df.corr(), annot = True, cmap = \"coolwarm\", fmt = \".2f\")\n",
    "plt.title(\"Correlation Heatmap\")\n",
    "plt.show()"
   ]
  },
  {
   "cell_type": "code",
   "execution_count": 52,
   "id": "298cb4c4",
   "metadata": {},
   "outputs": [],
   "source": [
    "def replace_outlier_with_median(df, column):\n",
    "    Q1 = df[column].quantile(0.25)\n",
    "    Q3 = df[column].quantile(0.75)\n",
    "    IQR  = Q3 - Q1\n",
    "    lower_bound = Q1 - 1.5 * IQR\n",
    "    upper_bound = Q3 + 1.5 * IQR\n",
    "    \n",
    "    median = df[column].median()\n",
    "\n",
    "    df[column] = df[column].apply(lambda x : median if x < lower_bound or x > upper_bound else x)\n",
    "    \n",
    "    return df"
   ]
  },
  {
   "cell_type": "code",
   "execution_count": 53,
   "id": "8fe6416e",
   "metadata": {},
   "outputs": [
    {
     "data": {
      "text/plain": [
       "(800, 20)"
      ]
     },
     "execution_count": 53,
     "metadata": {},
     "output_type": "execute_result"
    }
   ],
   "source": [
    "df.shape"
   ]
  },
  {
   "cell_type": "code",
   "execution_count": 54,
   "id": "05e06f6d",
   "metadata": {},
   "outputs": [],
   "source": [
    "df = replace_outlier_with_median(df, \"age\")\n",
    "df = replace_outlier_with_median(df, \"result\")"
   ]
  },
  {
   "cell_type": "code",
   "execution_count": 56,
   "id": "927a18bb",
   "metadata": {},
   "outputs": [
    {
     "data": {
      "text/plain": [
       "(800, 20)"
      ]
     },
     "execution_count": 56,
     "metadata": {},
     "output_type": "execute_result"
    }
   ],
   "source": [
    "df.shape"
   ]
  },
  {
   "cell_type": "code",
   "execution_count": 57,
   "id": "5b18d86c",
   "metadata": {},
   "outputs": [],
   "source": [
    "X  = df.drop(columns = ['Class/ASD'])\n",
    "y = df['Class/ASD']"
   ]
  },
  {
   "cell_type": "code",
   "execution_count": 58,
   "id": "30926707",
   "metadata": {},
   "outputs": [],
   "source": [
    "X_train, X_test, y_train, y_test = train_test_split(X, y, test_size = 0.2, random_state = 42)"
   ]
  },
  {
   "cell_type": "code",
   "execution_count": 59,
   "id": "a9bea090",
   "metadata": {},
   "outputs": [
    {
     "data": {
      "text/plain": [
       "(640, 19)"
      ]
     },
     "execution_count": 59,
     "metadata": {},
     "output_type": "execute_result"
    }
   ],
   "source": [
    "X_train.shape"
   ]
  },
  {
   "cell_type": "code",
   "execution_count": 60,
   "id": "854ece22",
   "metadata": {},
   "outputs": [
    {
     "data": {
      "text/plain": [
       "(640,)"
      ]
     },
     "execution_count": 60,
     "metadata": {},
     "output_type": "execute_result"
    }
   ],
   "source": [
    "y_train.shape"
   ]
  },
  {
   "cell_type": "code",
   "execution_count": 61,
   "id": "abf153e9",
   "metadata": {},
   "outputs": [
    {
     "data": {
      "text/plain": [
       "0    515\n",
       "1    125\n",
       "Name: Class/ASD, dtype: int64"
      ]
     },
     "execution_count": 61,
     "metadata": {},
     "output_type": "execute_result"
    }
   ],
   "source": [
    "y_train.value_counts()"
   ]
  },
  {
   "cell_type": "code",
   "execution_count": 62,
   "id": "d35ac376",
   "metadata": {},
   "outputs": [],
   "source": [
    "smote = SMOTE(random_state=42)"
   ]
  },
  {
   "cell_type": "code",
   "execution_count": 63,
   "id": "a55e644d",
   "metadata": {},
   "outputs": [],
   "source": [
    "X_train_smote, y_train_smote = smote.fit_resample(X_train, y_train)"
   ]
  },
  {
   "cell_type": "code",
   "execution_count": 65,
   "id": "690e2de0",
   "metadata": {},
   "outputs": [
    {
     "data": {
      "text/plain": [
       "(1030,)"
      ]
     },
     "execution_count": 65,
     "metadata": {},
     "output_type": "execute_result"
    }
   ],
   "source": [
    "y_train_smote.shape"
   ]
  },
  {
   "cell_type": "code",
   "execution_count": 66,
   "id": "c371ee94",
   "metadata": {},
   "outputs": [],
   "source": [
    "models = {\n",
    "    \"DecisionTreeClassifier\": DecisionTreeClassifier(random_state=42),\n",
    "    \"RandomForestClassifier\":RandomForestClassifier(random_state=42),\n",
    "    \"XGBClassifier\": XGBClassifier(random_state=42)\n",
    "}"
   ]
  },
  {
   "cell_type": "code",
   "execution_count": 68,
   "id": "9f65085d",
   "metadata": {},
   "outputs": [
    {
     "name": "stdout",
     "output_type": "stream",
     "text": [
      "Trainig DecisionTreeClassifier with default parameters....\n",
      "DecisionTreeClassifier Cross validation Accuarcy:  0.86\n",
      "----------------------------------------\n",
      "Trainig RandomForestClassifier with default parameters....\n",
      "RandomForestClassifier Cross validation Accuarcy:  0.92\n",
      "----------------------------------------\n",
      "Trainig XGBClassifier with default parameters....\n",
      "XGBClassifier Cross validation Accuarcy:  0.90\n",
      "----------------------------------------\n"
     ]
    }
   ],
   "source": [
    "cv_scores = {}\n",
    "\n",
    "for model_name, model in models.items():\n",
    "    print(f\"Trainig {model_name} with default parameters....\")\n",
    "    scores = cross_val_score(model, X_train_smote, y_train_smote, cv=5, scoring = \"accuracy\")\n",
    "    cv_scores[model_name] = scores\n",
    "    print(f\"{model_name} Cross validation Accuarcy: {np.mean(scores): .2f}\")\n",
    "    print(\"--\"* 20)"
   ]
  },
  {
   "cell_type": "code",
   "execution_count": 69,
   "id": "d04c6665",
   "metadata": {},
   "outputs": [
    {
     "data": {
      "text/plain": [
       "{'DecisionTreeClassifier': array([0.7961165 , 0.87864078, 0.87378641, 0.8592233 , 0.87378641]),\n",
       " 'RandomForestClassifier': array([0.90776699, 0.92718447, 0.9223301 , 0.91747573, 0.9223301 ]),\n",
       " 'XGBClassifier': array([0.8592233 , 0.92718447, 0.90291262, 0.91262136, 0.90776699])}"
      ]
     },
     "execution_count": 69,
     "metadata": {},
     "output_type": "execute_result"
    }
   ],
   "source": [
    "cv_scores"
   ]
  },
  {
   "cell_type": "code",
   "execution_count": 70,
   "id": "2c567a0b",
   "metadata": {},
   "outputs": [
    {
     "data": {
      "text/plain": [
       "0.85631068"
      ]
     },
     "execution_count": 70,
     "metadata": {},
     "output_type": "execute_result"
    }
   ],
   "source": [
    "(0.7961165 + 0.87864078 + 0.87378641 + 0.8592233 + 0.87378641)/5"
   ]
  },
  {
   "cell_type": "code",
   "execution_count": 71,
   "id": "4b91e95a",
   "metadata": {},
   "outputs": [],
   "source": [
    "decision_tree = DecisionTreeClassifier(random_state=42)\n",
    "random_forest = RandomForestClassifier(random_state=42)\n",
    "xgboost_classifier = XGBClassifier(random_state = 42)"
   ]
  },
  {
   "cell_type": "code",
   "execution_count": 77,
   "id": "8bfa949b",
   "metadata": {},
   "outputs": [],
   "source": [
    "param_grid_dt = {\n",
    "    \"criterion\": [\"gini\", \"entropy\"],\n",
    "    \"max_depth\" : [None, 10, 20, 30, 50 ,70],\n",
    "    \"min_samples_split\" : [2, 5, 10],\n",
    "    \"min_samples_leaf\": [1, 2, 4]\n",
    "    \n",
    "}\n",
    "\n",
    "param_grid_rf = {\n",
    "    \"n_estimators\": [50, 100, 200, 500],\n",
    "    \"max_depth\" : [None, 10, 20, 30],\n",
    "    \"min_samples_split\" : [2, 5, 10],\n",
    "    \"min_samples_leaf\": [1, 2, 4],\n",
    "    \"bootstrap\": [True, False]\n",
    "}\n",
    "\n",
    "param_grid_xgb = {\n",
    "    \"n_estimators\": [50, 100, 200, 500],\n",
    "    \"max_depth\" : [3,5,7,10],\n",
    "    \"learning_rate\": [0.01, 0.1, 0.2, 0.3],\n",
    "    \"subsample\" : [0.5, 0.7, 1.0],\n",
    "    \"colsample_bytree\": [0.5, 0.7, 1.0]\n",
    "}"
   ]
  },
  {
   "cell_type": "code",
   "execution_count": 78,
   "id": "b6b2d78b",
   "metadata": {},
   "outputs": [],
   "source": [
    "random_search_dt = RandomizedSearchCV(estimator=decision_tree, param_distributions=param_grid_dt, n_iter = 20, cv = 5, scoring = \"accuracy\", random_state=42)\n",
    "random_search_rf = RandomizedSearchCV(estimator=random_forest, param_distributions=param_grid_rf, n_iter = 20, cv = 5, scoring = \"accuracy\", random_state=42)\n",
    "random_search_xgb = RandomizedSearchCV(estimator=xgboost_classifier, param_distributions=param_grid_xgb, n_iter = 20, cv = 5, scoring = \"accuracy\", random_state=42)"
   ]
  },
  {
   "cell_type": "code",
   "execution_count": 79,
   "id": "674b45f3",
   "metadata": {},
   "outputs": [
    {
     "data": {
      "text/html": [
       "<style>#sk-container-id-2 {color: black;}#sk-container-id-2 pre{padding: 0;}#sk-container-id-2 div.sk-toggleable {background-color: white;}#sk-container-id-2 label.sk-toggleable__label {cursor: pointer;display: block;width: 100%;margin-bottom: 0;padding: 0.3em;box-sizing: border-box;text-align: center;}#sk-container-id-2 label.sk-toggleable__label-arrow:before {content: \"▸\";float: left;margin-right: 0.25em;color: #696969;}#sk-container-id-2 label.sk-toggleable__label-arrow:hover:before {color: black;}#sk-container-id-2 div.sk-estimator:hover label.sk-toggleable__label-arrow:before {color: black;}#sk-container-id-2 div.sk-toggleable__content {max-height: 0;max-width: 0;overflow: hidden;text-align: left;background-color: #f0f8ff;}#sk-container-id-2 div.sk-toggleable__content pre {margin: 0.2em;color: black;border-radius: 0.25em;background-color: #f0f8ff;}#sk-container-id-2 input.sk-toggleable__control:checked~div.sk-toggleable__content {max-height: 200px;max-width: 100%;overflow: auto;}#sk-container-id-2 input.sk-toggleable__control:checked~label.sk-toggleable__label-arrow:before {content: \"▾\";}#sk-container-id-2 div.sk-estimator input.sk-toggleable__control:checked~label.sk-toggleable__label {background-color: #d4ebff;}#sk-container-id-2 div.sk-label input.sk-toggleable__control:checked~label.sk-toggleable__label {background-color: #d4ebff;}#sk-container-id-2 input.sk-hidden--visually {border: 0;clip: rect(1px 1px 1px 1px);clip: rect(1px, 1px, 1px, 1px);height: 1px;margin: -1px;overflow: hidden;padding: 0;position: absolute;width: 1px;}#sk-container-id-2 div.sk-estimator {font-family: monospace;background-color: #f0f8ff;border: 1px dotted black;border-radius: 0.25em;box-sizing: border-box;margin-bottom: 0.5em;}#sk-container-id-2 div.sk-estimator:hover {background-color: #d4ebff;}#sk-container-id-2 div.sk-parallel-item::after {content: \"\";width: 100%;border-bottom: 1px solid gray;flex-grow: 1;}#sk-container-id-2 div.sk-label:hover label.sk-toggleable__label {background-color: #d4ebff;}#sk-container-id-2 div.sk-serial::before {content: \"\";position: absolute;border-left: 1px solid gray;box-sizing: border-box;top: 0;bottom: 0;left: 50%;z-index: 0;}#sk-container-id-2 div.sk-serial {display: flex;flex-direction: column;align-items: center;background-color: white;padding-right: 0.2em;padding-left: 0.2em;position: relative;}#sk-container-id-2 div.sk-item {position: relative;z-index: 1;}#sk-container-id-2 div.sk-parallel {display: flex;align-items: stretch;justify-content: center;background-color: white;position: relative;}#sk-container-id-2 div.sk-item::before, #sk-container-id-2 div.sk-parallel-item::before {content: \"\";position: absolute;border-left: 1px solid gray;box-sizing: border-box;top: 0;bottom: 0;left: 50%;z-index: -1;}#sk-container-id-2 div.sk-parallel-item {display: flex;flex-direction: column;z-index: 1;position: relative;background-color: white;}#sk-container-id-2 div.sk-parallel-item:first-child::after {align-self: flex-end;width: 50%;}#sk-container-id-2 div.sk-parallel-item:last-child::after {align-self: flex-start;width: 50%;}#sk-container-id-2 div.sk-parallel-item:only-child::after {width: 0;}#sk-container-id-2 div.sk-dashed-wrapped {border: 1px dashed gray;margin: 0 0.4em 0.5em 0.4em;box-sizing: border-box;padding-bottom: 0.4em;background-color: white;}#sk-container-id-2 div.sk-label label {font-family: monospace;font-weight: bold;display: inline-block;line-height: 1.2em;}#sk-container-id-2 div.sk-label-container {text-align: center;}#sk-container-id-2 div.sk-container {/* jupyter's `normalize.less` sets `[hidden] { display: none; }` but bootstrap.min.css set `[hidden] { display: none !important; }` so we also need the `!important` here to be able to override the default hidden behavior on the sphinx rendered scikit-learn.org. See: https://github.com/scikit-learn/scikit-learn/issues/21755 */display: inline-block !important;position: relative;}#sk-container-id-2 div.sk-text-repr-fallback {display: none;}</style><div id=\"sk-container-id-2\" class=\"sk-top-container\"><div class=\"sk-text-repr-fallback\"><pre>RandomizedSearchCV(cv=5,\n",
       "                   estimator=XGBClassifier(base_score=None, booster=None,\n",
       "                                           callbacks=None,\n",
       "                                           colsample_bylevel=None,\n",
       "                                           colsample_bynode=None,\n",
       "                                           colsample_bytree=None,\n",
       "                                           early_stopping_rounds=None,\n",
       "                                           enable_categorical=False,\n",
       "                                           eval_metric=None, feature_types=None,\n",
       "                                           gamma=None, gpu_id=None,\n",
       "                                           grow_policy=None,\n",
       "                                           importance_type=None,\n",
       "                                           interaction_constraints=None,\n",
       "                                           learning_rate...\n",
       "                                           min_child_weight=None, missing=nan,\n",
       "                                           monotone_constraints=None,\n",
       "                                           n_estimators=100, n_jobs=None,\n",
       "                                           num_parallel_tree=None,\n",
       "                                           predictor=None, random_state=42, ...),\n",
       "                   n_iter=20,\n",
       "                   param_distributions={&#x27;colsample_bytree&#x27;: [0.5, 0.7, 1.0],\n",
       "                                        &#x27;learning_rate&#x27;: [0.01, 0.1, 0.2, 0.3],\n",
       "                                        &#x27;max_depth&#x27;: [3, 5, 7, 10],\n",
       "                                        &#x27;n_estimators&#x27;: [50, 100, 200, 500],\n",
       "                                        &#x27;subsample&#x27;: [0.5, 0.7, 1.0]},\n",
       "                   random_state=42, scoring=&#x27;accuracy&#x27;)</pre><b>In a Jupyter environment, please rerun this cell to show the HTML representation or trust the notebook. <br />On GitHub, the HTML representation is unable to render, please try loading this page with nbviewer.org.</b></div><div class=\"sk-container\" hidden><div class=\"sk-item sk-dashed-wrapped\"><div class=\"sk-label-container\"><div class=\"sk-label sk-toggleable\"><input class=\"sk-toggleable__control sk-hidden--visually\" id=\"sk-estimator-id-4\" type=\"checkbox\" ><label for=\"sk-estimator-id-4\" class=\"sk-toggleable__label sk-toggleable__label-arrow\">RandomizedSearchCV</label><div class=\"sk-toggleable__content\"><pre>RandomizedSearchCV(cv=5,\n",
       "                   estimator=XGBClassifier(base_score=None, booster=None,\n",
       "                                           callbacks=None,\n",
       "                                           colsample_bylevel=None,\n",
       "                                           colsample_bynode=None,\n",
       "                                           colsample_bytree=None,\n",
       "                                           early_stopping_rounds=None,\n",
       "                                           enable_categorical=False,\n",
       "                                           eval_metric=None, feature_types=None,\n",
       "                                           gamma=None, gpu_id=None,\n",
       "                                           grow_policy=None,\n",
       "                                           importance_type=None,\n",
       "                                           interaction_constraints=None,\n",
       "                                           learning_rate...\n",
       "                                           min_child_weight=None, missing=nan,\n",
       "                                           monotone_constraints=None,\n",
       "                                           n_estimators=100, n_jobs=None,\n",
       "                                           num_parallel_tree=None,\n",
       "                                           predictor=None, random_state=42, ...),\n",
       "                   n_iter=20,\n",
       "                   param_distributions={&#x27;colsample_bytree&#x27;: [0.5, 0.7, 1.0],\n",
       "                                        &#x27;learning_rate&#x27;: [0.01, 0.1, 0.2, 0.3],\n",
       "                                        &#x27;max_depth&#x27;: [3, 5, 7, 10],\n",
       "                                        &#x27;n_estimators&#x27;: [50, 100, 200, 500],\n",
       "                                        &#x27;subsample&#x27;: [0.5, 0.7, 1.0]},\n",
       "                   random_state=42, scoring=&#x27;accuracy&#x27;)</pre></div></div></div><div class=\"sk-parallel\"><div class=\"sk-parallel-item\"><div class=\"sk-item\"><div class=\"sk-label-container\"><div class=\"sk-label sk-toggleable\"><input class=\"sk-toggleable__control sk-hidden--visually\" id=\"sk-estimator-id-5\" type=\"checkbox\" ><label for=\"sk-estimator-id-5\" class=\"sk-toggleable__label sk-toggleable__label-arrow\">estimator: XGBClassifier</label><div class=\"sk-toggleable__content\"><pre>XGBClassifier(base_score=None, booster=None, callbacks=None,\n",
       "              colsample_bylevel=None, colsample_bynode=None,\n",
       "              colsample_bytree=None, early_stopping_rounds=None,\n",
       "              enable_categorical=False, eval_metric=None, feature_types=None,\n",
       "              gamma=None, gpu_id=None, grow_policy=None, importance_type=None,\n",
       "              interaction_constraints=None, learning_rate=None, max_bin=None,\n",
       "              max_cat_threshold=None, max_cat_to_onehot=None,\n",
       "              max_delta_step=None, max_depth=None, max_leaves=None,\n",
       "              min_child_weight=None, missing=nan, monotone_constraints=None,\n",
       "              n_estimators=100, n_jobs=None, num_parallel_tree=None,\n",
       "              predictor=None, random_state=42, ...)</pre></div></div></div><div class=\"sk-serial\"><div class=\"sk-item\"><div class=\"sk-estimator sk-toggleable\"><input class=\"sk-toggleable__control sk-hidden--visually\" id=\"sk-estimator-id-6\" type=\"checkbox\" ><label for=\"sk-estimator-id-6\" class=\"sk-toggleable__label sk-toggleable__label-arrow\">XGBClassifier</label><div class=\"sk-toggleable__content\"><pre>XGBClassifier(base_score=None, booster=None, callbacks=None,\n",
       "              colsample_bylevel=None, colsample_bynode=None,\n",
       "              colsample_bytree=None, early_stopping_rounds=None,\n",
       "              enable_categorical=False, eval_metric=None, feature_types=None,\n",
       "              gamma=None, gpu_id=None, grow_policy=None, importance_type=None,\n",
       "              interaction_constraints=None, learning_rate=None, max_bin=None,\n",
       "              max_cat_threshold=None, max_cat_to_onehot=None,\n",
       "              max_delta_step=None, max_depth=None, max_leaves=None,\n",
       "              min_child_weight=None, missing=nan, monotone_constraints=None,\n",
       "              n_estimators=100, n_jobs=None, num_parallel_tree=None,\n",
       "              predictor=None, random_state=42, ...)</pre></div></div></div></div></div></div></div></div></div></div>"
      ],
      "text/plain": [
       "RandomizedSearchCV(cv=5,\n",
       "                   estimator=XGBClassifier(base_score=None, booster=None,\n",
       "                                           callbacks=None,\n",
       "                                           colsample_bylevel=None,\n",
       "                                           colsample_bynode=None,\n",
       "                                           colsample_bytree=None,\n",
       "                                           early_stopping_rounds=None,\n",
       "                                           enable_categorical=False,\n",
       "                                           eval_metric=None, feature_types=None,\n",
       "                                           gamma=None, gpu_id=None,\n",
       "                                           grow_policy=None,\n",
       "                                           importance_type=None,\n",
       "                                           interaction_constraints=None,\n",
       "                                           learning_rate...\n",
       "                                           min_child_weight=None, missing=nan,\n",
       "                                           monotone_constraints=None,\n",
       "                                           n_estimators=100, n_jobs=None,\n",
       "                                           num_parallel_tree=None,\n",
       "                                           predictor=None, random_state=42, ...),\n",
       "                   n_iter=20,\n",
       "                   param_distributions={'colsample_bytree': [0.5, 0.7, 1.0],\n",
       "                                        'learning_rate': [0.01, 0.1, 0.2, 0.3],\n",
       "                                        'max_depth': [3, 5, 7, 10],\n",
       "                                        'n_estimators': [50, 100, 200, 500],\n",
       "                                        'subsample': [0.5, 0.7, 1.0]},\n",
       "                   random_state=42, scoring='accuracy')"
      ]
     },
     "execution_count": 79,
     "metadata": {},
     "output_type": "execute_result"
    }
   ],
   "source": [
    "random_search_dt.fit(X_train_smote, y_train_smote)\n",
    "random_search_rf.fit(X_train_smote, y_train_smote)\n",
    "random_search_xgb.fit(X_train_smote, y_train_smote)"
   ]
  },
  {
   "cell_type": "code",
   "execution_count": 80,
   "id": "2f0c4a1f",
   "metadata": {},
   "outputs": [],
   "source": [
    "best_model = None\n",
    "best_score = 0\n",
    "\n",
    "if random_search_dt.best_score_ > best_score:\n",
    "    best_model = random_search_dt.best_estimator_\n",
    "    best_score = random_search_dt.best_score_\n",
    "\n",
    "if random_search_rf.best_score_ > best_score:\n",
    "    best_model = random_search_rf.best_estimator_\n",
    "    best_score = random_search_rf.best_score_\n",
    "    \n",
    "if random_search_xgb.best_score_ > best_score:\n",
    "    best_model = random_search_xgb.best_estimator_\n",
    "    best_score = random_search_xgb.best_score_"
   ]
  },
  {
   "cell_type": "code",
   "execution_count": 81,
   "id": "abcb14c0",
   "metadata": {},
   "outputs": [
    {
     "data": {
      "text/html": [
       "<style>#sk-container-id-3 {color: black;}#sk-container-id-3 pre{padding: 0;}#sk-container-id-3 div.sk-toggleable {background-color: white;}#sk-container-id-3 label.sk-toggleable__label {cursor: pointer;display: block;width: 100%;margin-bottom: 0;padding: 0.3em;box-sizing: border-box;text-align: center;}#sk-container-id-3 label.sk-toggleable__label-arrow:before {content: \"▸\";float: left;margin-right: 0.25em;color: #696969;}#sk-container-id-3 label.sk-toggleable__label-arrow:hover:before {color: black;}#sk-container-id-3 div.sk-estimator:hover label.sk-toggleable__label-arrow:before {color: black;}#sk-container-id-3 div.sk-toggleable__content {max-height: 0;max-width: 0;overflow: hidden;text-align: left;background-color: #f0f8ff;}#sk-container-id-3 div.sk-toggleable__content pre {margin: 0.2em;color: black;border-radius: 0.25em;background-color: #f0f8ff;}#sk-container-id-3 input.sk-toggleable__control:checked~div.sk-toggleable__content {max-height: 200px;max-width: 100%;overflow: auto;}#sk-container-id-3 input.sk-toggleable__control:checked~label.sk-toggleable__label-arrow:before {content: \"▾\";}#sk-container-id-3 div.sk-estimator input.sk-toggleable__control:checked~label.sk-toggleable__label {background-color: #d4ebff;}#sk-container-id-3 div.sk-label input.sk-toggleable__control:checked~label.sk-toggleable__label {background-color: #d4ebff;}#sk-container-id-3 input.sk-hidden--visually {border: 0;clip: rect(1px 1px 1px 1px);clip: rect(1px, 1px, 1px, 1px);height: 1px;margin: -1px;overflow: hidden;padding: 0;position: absolute;width: 1px;}#sk-container-id-3 div.sk-estimator {font-family: monospace;background-color: #f0f8ff;border: 1px dotted black;border-radius: 0.25em;box-sizing: border-box;margin-bottom: 0.5em;}#sk-container-id-3 div.sk-estimator:hover {background-color: #d4ebff;}#sk-container-id-3 div.sk-parallel-item::after {content: \"\";width: 100%;border-bottom: 1px solid gray;flex-grow: 1;}#sk-container-id-3 div.sk-label:hover label.sk-toggleable__label {background-color: #d4ebff;}#sk-container-id-3 div.sk-serial::before {content: \"\";position: absolute;border-left: 1px solid gray;box-sizing: border-box;top: 0;bottom: 0;left: 50%;z-index: 0;}#sk-container-id-3 div.sk-serial {display: flex;flex-direction: column;align-items: center;background-color: white;padding-right: 0.2em;padding-left: 0.2em;position: relative;}#sk-container-id-3 div.sk-item {position: relative;z-index: 1;}#sk-container-id-3 div.sk-parallel {display: flex;align-items: stretch;justify-content: center;background-color: white;position: relative;}#sk-container-id-3 div.sk-item::before, #sk-container-id-3 div.sk-parallel-item::before {content: \"\";position: absolute;border-left: 1px solid gray;box-sizing: border-box;top: 0;bottom: 0;left: 50%;z-index: -1;}#sk-container-id-3 div.sk-parallel-item {display: flex;flex-direction: column;z-index: 1;position: relative;background-color: white;}#sk-container-id-3 div.sk-parallel-item:first-child::after {align-self: flex-end;width: 50%;}#sk-container-id-3 div.sk-parallel-item:last-child::after {align-self: flex-start;width: 50%;}#sk-container-id-3 div.sk-parallel-item:only-child::after {width: 0;}#sk-container-id-3 div.sk-dashed-wrapped {border: 1px dashed gray;margin: 0 0.4em 0.5em 0.4em;box-sizing: border-box;padding-bottom: 0.4em;background-color: white;}#sk-container-id-3 div.sk-label label {font-family: monospace;font-weight: bold;display: inline-block;line-height: 1.2em;}#sk-container-id-3 div.sk-label-container {text-align: center;}#sk-container-id-3 div.sk-container {/* jupyter's `normalize.less` sets `[hidden] { display: none; }` but bootstrap.min.css set `[hidden] { display: none !important; }` so we also need the `!important` here to be able to override the default hidden behavior on the sphinx rendered scikit-learn.org. See: https://github.com/scikit-learn/scikit-learn/issues/21755 */display: inline-block !important;position: relative;}#sk-container-id-3 div.sk-text-repr-fallback {display: none;}</style><div id=\"sk-container-id-3\" class=\"sk-top-container\"><div class=\"sk-text-repr-fallback\"><pre>RandomForestClassifier(bootstrap=False, max_depth=20, n_estimators=50,\n",
       "                       random_state=42)</pre><b>In a Jupyter environment, please rerun this cell to show the HTML representation or trust the notebook. <br />On GitHub, the HTML representation is unable to render, please try loading this page with nbviewer.org.</b></div><div class=\"sk-container\" hidden><div class=\"sk-item\"><div class=\"sk-estimator sk-toggleable\"><input class=\"sk-toggleable__control sk-hidden--visually\" id=\"sk-estimator-id-7\" type=\"checkbox\" checked><label for=\"sk-estimator-id-7\" class=\"sk-toggleable__label sk-toggleable__label-arrow\">RandomForestClassifier</label><div class=\"sk-toggleable__content\"><pre>RandomForestClassifier(bootstrap=False, max_depth=20, n_estimators=50,\n",
       "                       random_state=42)</pre></div></div></div></div></div>"
      ],
      "text/plain": [
       "RandomForestClassifier(bootstrap=False, max_depth=20, n_estimators=50,\n",
       "                       random_state=42)"
      ]
     },
     "execution_count": 81,
     "metadata": {},
     "output_type": "execute_result"
    }
   ],
   "source": [
    "best_model"
   ]
  },
  {
   "cell_type": "code",
   "execution_count": 82,
   "id": "13520fd0",
   "metadata": {},
   "outputs": [
    {
     "data": {
      "text/plain": [
       "0.9271844660194175"
      ]
     },
     "execution_count": 82,
     "metadata": {},
     "output_type": "execute_result"
    }
   ],
   "source": [
    "best_score"
   ]
  },
  {
   "cell_type": "code",
   "execution_count": 83,
   "id": "72889182",
   "metadata": {},
   "outputs": [],
   "source": [
    "with open(\"best_model.pkl\", \"wb\") as f:\n",
    "    pickle.dump(best_model, f)"
   ]
  },
  {
   "cell_type": "code",
   "execution_count": 84,
   "id": "eb9d534a",
   "metadata": {},
   "outputs": [],
   "source": [
    "y_test_pred =best_model.predict(X_test)"
   ]
  },
  {
   "cell_type": "code",
   "execution_count": 85,
   "id": "655f6245",
   "metadata": {},
   "outputs": [
    {
     "data": {
      "text/plain": [
       "0.81875"
      ]
     },
     "execution_count": 85,
     "metadata": {},
     "output_type": "execute_result"
    }
   ],
   "source": [
    "accuracy_score(y_test, y_test_pred)"
   ]
  },
  {
   "cell_type": "code",
   "execution_count": 86,
   "id": "40ca9acc",
   "metadata": {},
   "outputs": [
    {
     "data": {
      "text/plain": [
       "array([[108,  16],\n",
       "       [ 13,  23]], dtype=int64)"
      ]
     },
     "execution_count": 86,
     "metadata": {},
     "output_type": "execute_result"
    }
   ],
   "source": [
    "confusion_matrix(y_test, y_test_pred)"
   ]
  },
  {
   "cell_type": "code",
   "execution_count": 88,
   "id": "d53014cd",
   "metadata": {},
   "outputs": [
    {
     "name": "stdout",
     "output_type": "stream",
     "text": [
      "              precision    recall  f1-score   support\n",
      "\n",
      "           0       0.89      0.87      0.88       124\n",
      "           1       0.59      0.64      0.61        36\n",
      "\n",
      "    accuracy                           0.82       160\n",
      "   macro avg       0.74      0.75      0.75       160\n",
      "weighted avg       0.82      0.82      0.82       160\n",
      "\n"
     ]
    }
   ],
   "source": [
    "print(classification_report(y_test, y_test_pred))"
   ]
  },
  {
   "cell_type": "code",
   "execution_count": null,
   "id": "5ff1fc35",
   "metadata": {},
   "outputs": [],
   "source": []
  }
 ],
 "metadata": {
  "kernelspec": {
   "display_name": "Python 3",
   "language": "python",
   "name": "python3"
  },
  "language_info": {
   "codemirror_mode": {
    "name": "ipython",
    "version": 3
   },
   "file_extension": ".py",
   "mimetype": "text/x-python",
   "name": "python",
   "nbconvert_exporter": "python",
   "pygments_lexer": "ipython3",
   "version": "3.8.5"
  }
 },
 "nbformat": 4,
 "nbformat_minor": 5
}
